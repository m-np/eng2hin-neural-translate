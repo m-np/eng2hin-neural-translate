{
 "cells": [
  {
   "cell_type": "markdown",
   "id": "a5dda858",
   "metadata": {
    "papermill": {
     "duration": 0.00875,
     "end_time": "2024-02-05T10:26:59.802924",
     "exception": false,
     "start_time": "2024-02-05T10:26:59.794174",
     "status": "completed"
    },
    "tags": []
   },
   "source": [
    "# Data Preparation for English to Hindi Translation\n",
    "\n",
    "This Notebook works on cleaning and processing data for English to Hindi translation model"
   ]
  },
  {
   "cell_type": "code",
   "execution_count": 1,
   "id": "fa26aad1",
   "metadata": {
    "execution": {
     "iopub.execute_input": "2024-02-05T10:26:59.822548Z",
     "iopub.status.busy": "2024-02-05T10:26:59.822097Z",
     "iopub.status.idle": "2024-02-05T10:27:03.238537Z",
     "shell.execute_reply": "2024-02-05T10:27:03.237450Z"
    },
    "papermill": {
     "duration": 3.42953,
     "end_time": "2024-02-05T10:27:03.241563",
     "exception": false,
     "start_time": "2024-02-05T10:26:59.812033",
     "status": "completed"
    },
    "tags": []
   },
   "outputs": [],
   "source": [
    "import numpy as np \n",
    "import pandas as pd \n",
    "\n",
    "import re\n",
    "import string\n",
    "from string import digits\n",
    "\n",
    "import nltk\n",
    "from nltk.corpus import stopwords\n",
    "from nltk import word_tokenize\n",
    "\n",
    "import matplotlib.pyplot as plt\n",
    "import os\n",
    "from tqdm import tqdm\n",
    "\n",
    "pd.set_option('display.max_rows', 500)\n",
    "pd.set_option('display.max_columns', 500)\n",
    "pd.set_option('display.width', 1000)"
   ]
  },
  {
   "cell_type": "markdown",
   "id": "f1af8f03",
   "metadata": {
    "papermill": {
     "duration": 0.007793,
     "end_time": "2024-02-05T10:27:03.257731",
     "exception": false,
     "start_time": "2024-02-05T10:27:03.249938",
     "status": "completed"
    },
    "tags": []
   },
   "source": [
    "# Data Preprocessing "
   ]
  },
  {
   "cell_type": "code",
   "execution_count": 2,
   "id": "ad81cb2b",
   "metadata": {
    "execution": {
     "iopub.execute_input": "2024-02-05T10:27:03.276124Z",
     "iopub.status.busy": "2024-02-05T10:27:03.275522Z",
     "iopub.status.idle": "2024-02-05T10:27:04.928987Z",
     "shell.execute_reply": "2024-02-05T10:27:04.927719Z"
    },
    "papermill": {
     "duration": 1.666939,
     "end_time": "2024-02-05T10:27:04.932843",
     "exception": false,
     "start_time": "2024-02-05T10:27:03.265904",
     "status": "completed"
    },
    "tags": []
   },
   "outputs": [
    {
     "data": {
      "text/html": [
       "<div>\n",
       "<style scoped>\n",
       "    .dataframe tbody tr th:only-of-type {\n",
       "        vertical-align: middle;\n",
       "    }\n",
       "\n",
       "    .dataframe tbody tr th {\n",
       "        vertical-align: top;\n",
       "    }\n",
       "\n",
       "    .dataframe thead th {\n",
       "        text-align: right;\n",
       "    }\n",
       "</style>\n",
       "<table border=\"1\" class=\"dataframe\">\n",
       "  <thead>\n",
       "    <tr style=\"text-align: right;\">\n",
       "      <th></th>\n",
       "      <th>source</th>\n",
       "      <th>english_sentence</th>\n",
       "      <th>hindi_sentence</th>\n",
       "    </tr>\n",
       "  </thead>\n",
       "  <tbody>\n",
       "    <tr>\n",
       "      <th>0</th>\n",
       "      <td>ted</td>\n",
       "      <td>politicians do not have permission to do what ...</td>\n",
       "      <td>राजनीतिज्ञों के पास जो कार्य करना चाहिए, वह कर...</td>\n",
       "    </tr>\n",
       "    <tr>\n",
       "      <th>1</th>\n",
       "      <td>ted</td>\n",
       "      <td>I'd like to tell you about one such child,</td>\n",
       "      <td>मई आपको ऐसे ही एक बच्चे के बारे में बताना चाहू...</td>\n",
       "    </tr>\n",
       "    <tr>\n",
       "      <th>2</th>\n",
       "      <td>indic2012</td>\n",
       "      <td>This percentage is even greater than the perce...</td>\n",
       "      <td>यह प्रतिशत भारत में हिन्दुओं प्रतिशत से अधिक है।</td>\n",
       "    </tr>\n",
       "    <tr>\n",
       "      <th>3</th>\n",
       "      <td>ted</td>\n",
       "      <td>what we really mean is that they're bad at not...</td>\n",
       "      <td>हम ये नहीं कहना चाहते कि वो ध्यान नहीं दे पाते</td>\n",
       "    </tr>\n",
       "    <tr>\n",
       "      <th>4</th>\n",
       "      <td>indic2012</td>\n",
       "      <td>.The ending portion of these Vedas is called U...</td>\n",
       "      <td>इन्हीं वेदों का अंतिम भाग उपनिषद कहलाता है।</td>\n",
       "    </tr>\n",
       "  </tbody>\n",
       "</table>\n",
       "</div>"
      ],
      "text/plain": [
       "      source                                   english_sentence                                     hindi_sentence\n",
       "0        ted  politicians do not have permission to do what ...  राजनीतिज्ञों के पास जो कार्य करना चाहिए, वह कर...\n",
       "1        ted         I'd like to tell you about one such child,  मई आपको ऐसे ही एक बच्चे के बारे में बताना चाहू...\n",
       "2  indic2012  This percentage is even greater than the perce...   यह प्रतिशत भारत में हिन्दुओं प्रतिशत से अधिक है।\n",
       "3        ted  what we really mean is that they're bad at not...     हम ये नहीं कहना चाहते कि वो ध्यान नहीं दे पाते\n",
       "4  indic2012  .The ending portion of these Vedas is called U...        इन्हीं वेदों का अंतिम भाग उपनिषद कहलाता है।"
      ]
     },
     "execution_count": 2,
     "metadata": {},
     "output_type": "execute_result"
    }
   ],
   "source": [
    "df = pd.read_csv(\"/kaggle/input/hindi-english-truncated-corpus/Hindi_English_Truncated_Corpus.csv\")\n",
    "df.head()"
   ]
  },
  {
   "cell_type": "code",
   "execution_count": 3,
   "id": "a114fc19",
   "metadata": {
    "execution": {
     "iopub.execute_input": "2024-02-05T10:27:04.954967Z",
     "iopub.status.busy": "2024-02-05T10:27:04.954143Z",
     "iopub.status.idle": "2024-02-05T10:27:04.978426Z",
     "shell.execute_reply": "2024-02-05T10:27:04.977320Z"
    },
    "papermill": {
     "duration": 0.037224,
     "end_time": "2024-02-05T10:27:04.981044",
     "exception": false,
     "start_time": "2024-02-05T10:27:04.943820",
     "status": "completed"
    },
    "tags": []
   },
   "outputs": [],
   "source": [
    "df[\"english_sentence\"] = df[\"english_sentence\"].astype(\"str\")\n",
    "df[\"hindi_sentence\"] = df[\"hindi_sentence\"].astype(\"str\")"
   ]
  },
  {
   "cell_type": "code",
   "execution_count": 4,
   "id": "a20b9443",
   "metadata": {
    "execution": {
     "iopub.execute_input": "2024-02-05T10:27:05.000419Z",
     "iopub.status.busy": "2024-02-05T10:27:04.999754Z",
     "iopub.status.idle": "2024-02-05T10:27:05.009152Z",
     "shell.execute_reply": "2024-02-05T10:27:05.008177Z"
    },
    "papermill": {
     "duration": 0.022301,
     "end_time": "2024-02-05T10:27:05.012095",
     "exception": false,
     "start_time": "2024-02-05T10:27:04.989794",
     "status": "completed"
    },
    "tags": []
   },
   "outputs": [
    {
     "data": {
      "text/plain": [
       "\"I'd like to tell you about one such child,\""
      ]
     },
     "execution_count": 4,
     "metadata": {},
     "output_type": "execute_result"
    }
   ],
   "source": [
    "df.loc[1, \"english_sentence\"]"
   ]
  },
  {
   "cell_type": "code",
   "execution_count": 5,
   "id": "b3d2493d",
   "metadata": {
    "execution": {
     "iopub.execute_input": "2024-02-05T10:27:05.036938Z",
     "iopub.status.busy": "2024-02-05T10:27:05.035584Z",
     "iopub.status.idle": "2024-02-05T10:27:05.045601Z",
     "shell.execute_reply": "2024-02-05T10:27:05.044336Z"
    },
    "papermill": {
     "duration": 0.024725,
     "end_time": "2024-02-05T10:27:05.049048",
     "exception": false,
     "start_time": "2024-02-05T10:27:05.024323",
     "status": "completed"
    },
    "tags": []
   },
   "outputs": [
    {
     "data": {
      "text/plain": [
       "source              object\n",
       "english_sentence    object\n",
       "hindi_sentence      object\n",
       "dtype: object"
      ]
     },
     "execution_count": 5,
     "metadata": {},
     "output_type": "execute_result"
    }
   ],
   "source": [
    "df.dtypes"
   ]
  },
  {
   "cell_type": "markdown",
   "id": "ef05fa95",
   "metadata": {
    "papermill": {
     "duration": 0.01037,
     "end_time": "2024-02-05T10:27:05.071083",
     "exception": false,
     "start_time": "2024-02-05T10:27:05.060713",
     "status": "completed"
    },
    "tags": []
   },
   "source": [
    "Choose data with max sentence less than 30 char"
   ]
  },
  {
   "cell_type": "code",
   "execution_count": 6,
   "id": "0e78c3c0",
   "metadata": {
    "execution": {
     "iopub.execute_input": "2024-02-05T10:27:05.097894Z",
     "iopub.status.busy": "2024-02-05T10:27:05.097398Z",
     "iopub.status.idle": "2024-02-05T10:27:05.105031Z",
     "shell.execute_reply": "2024-02-05T10:27:05.103450Z"
    },
    "papermill": {
     "duration": 0.02673,
     "end_time": "2024-02-05T10:27:05.108839",
     "exception": false,
     "start_time": "2024-02-05T10:27:05.082109",
     "status": "completed"
    },
    "tags": []
   },
   "outputs": [],
   "source": [
    "MAX_FILTER_LEN = 30"
   ]
  },
  {
   "cell_type": "code",
   "execution_count": 7,
   "id": "e702d90d",
   "metadata": {
    "execution": {
     "iopub.execute_input": "2024-02-05T10:27:05.137253Z",
     "iopub.status.busy": "2024-02-05T10:27:05.136860Z",
     "iopub.status.idle": "2024-02-05T10:27:05.749983Z",
     "shell.execute_reply": "2024-02-05T10:27:05.748617Z"
    },
    "papermill": {
     "duration": 0.631231,
     "end_time": "2024-02-05T10:27:05.752858",
     "exception": false,
     "start_time": "2024-02-05T10:27:05.121627",
     "status": "completed"
    },
    "tags": []
   },
   "outputs": [],
   "source": [
    "df[\"eng_len\"] = df[\"english_sentence\"].apply(lambda x: len(str(x).split(\" \")))\n",
    "df[\"hin_len\"] = df[\"hindi_sentence\"].apply(lambda x: len(str(x).split(\" \")))"
   ]
  },
  {
   "cell_type": "code",
   "execution_count": 8,
   "id": "08264d71",
   "metadata": {
    "execution": {
     "iopub.execute_input": "2024-02-05T10:27:05.772512Z",
     "iopub.status.busy": "2024-02-05T10:27:05.772108Z",
     "iopub.status.idle": "2024-02-05T10:27:05.794851Z",
     "shell.execute_reply": "2024-02-05T10:27:05.793591Z"
    },
    "papermill": {
     "duration": 0.035986,
     "end_time": "2024-02-05T10:27:05.797760",
     "exception": false,
     "start_time": "2024-02-05T10:27:05.761774",
     "status": "completed"
    },
    "tags": []
   },
   "outputs": [
    {
     "data": {
      "text/html": [
       "<div>\n",
       "<style scoped>\n",
       "    .dataframe tbody tr th:only-of-type {\n",
       "        vertical-align: middle;\n",
       "    }\n",
       "\n",
       "    .dataframe tbody tr th {\n",
       "        vertical-align: top;\n",
       "    }\n",
       "\n",
       "    .dataframe thead th {\n",
       "        text-align: right;\n",
       "    }\n",
       "</style>\n",
       "<table border=\"1\" class=\"dataframe\">\n",
       "  <thead>\n",
       "    <tr style=\"text-align: right;\">\n",
       "      <th></th>\n",
       "      <th>source</th>\n",
       "      <th>english_sentence</th>\n",
       "      <th>hindi_sentence</th>\n",
       "      <th>eng_len</th>\n",
       "      <th>hin_len</th>\n",
       "    </tr>\n",
       "  </thead>\n",
       "  <tbody>\n",
       "    <tr>\n",
       "      <th>0</th>\n",
       "      <td>ted</td>\n",
       "      <td>politicians do not have permission to do what ...</td>\n",
       "      <td>राजनीतिज्ञों के पास जो कार्य करना चाहिए, वह कर...</td>\n",
       "      <td>12</td>\n",
       "      <td>14</td>\n",
       "    </tr>\n",
       "    <tr>\n",
       "      <th>1</th>\n",
       "      <td>ted</td>\n",
       "      <td>I'd like to tell you about one such child,</td>\n",
       "      <td>मई आपको ऐसे ही एक बच्चे के बारे में बताना चाहू...</td>\n",
       "      <td>9</td>\n",
       "      <td>11</td>\n",
       "    </tr>\n",
       "    <tr>\n",
       "      <th>2</th>\n",
       "      <td>indic2012</td>\n",
       "      <td>This percentage is even greater than the perce...</td>\n",
       "      <td>यह प्रतिशत भारत में हिन्दुओं प्रतिशत से अधिक है।</td>\n",
       "      <td>10</td>\n",
       "      <td>9</td>\n",
       "    </tr>\n",
       "    <tr>\n",
       "      <th>3</th>\n",
       "      <td>ted</td>\n",
       "      <td>what we really mean is that they're bad at not...</td>\n",
       "      <td>हम ये नहीं कहना चाहते कि वो ध्यान नहीं दे पाते</td>\n",
       "      <td>12</td>\n",
       "      <td>11</td>\n",
       "    </tr>\n",
       "    <tr>\n",
       "      <th>4</th>\n",
       "      <td>indic2012</td>\n",
       "      <td>.The ending portion of these Vedas is called U...</td>\n",
       "      <td>इन्हीं वेदों का अंतिम भाग उपनिषद कहलाता है।</td>\n",
       "      <td>9</td>\n",
       "      <td>8</td>\n",
       "    </tr>\n",
       "    <tr>\n",
       "      <th>...</th>\n",
       "      <td>...</td>\n",
       "      <td>...</td>\n",
       "      <td>...</td>\n",
       "      <td>...</td>\n",
       "      <td>...</td>\n",
       "    </tr>\n",
       "    <tr>\n",
       "      <th>127602</th>\n",
       "      <td>indic2012</td>\n",
       "      <td>Examples of art deco construction can be found...</td>\n",
       "      <td>आर्ट डेको शैली के निर्माण मैरीन ड्राइव और ओवल ...</td>\n",
       "      <td>15</td>\n",
       "      <td>15</td>\n",
       "    </tr>\n",
       "    <tr>\n",
       "      <th>127603</th>\n",
       "      <td>ted</td>\n",
       "      <td>and put it in our cheeks.</td>\n",
       "      <td>और अपने गालों में डाल लेते हैं।</td>\n",
       "      <td>6</td>\n",
       "      <td>7</td>\n",
       "    </tr>\n",
       "    <tr>\n",
       "      <th>127604</th>\n",
       "      <td>tides</td>\n",
       "      <td>As for the other derivatives of sulphur , the ...</td>\n",
       "      <td>जहां तक गंधक के अन्य उत्पादों का प्रश्न है , द...</td>\n",
       "      <td>36</td>\n",
       "      <td>34</td>\n",
       "    </tr>\n",
       "    <tr>\n",
       "      <th>127605</th>\n",
       "      <td>tides</td>\n",
       "      <td>its complicated functioning is defined thus in...</td>\n",
       "      <td>Zरचना-प्रकिया को उसने एक पहेली में यों बांधा है .</td>\n",
       "      <td>11</td>\n",
       "      <td>10</td>\n",
       "    </tr>\n",
       "    <tr>\n",
       "      <th>127606</th>\n",
       "      <td>ted</td>\n",
       "      <td>They've just won four government contracts to ...</td>\n",
       "      <td>हाल ही में उन्हें सरकारी ठेका मिला है करीब सौ ...</td>\n",
       "      <td>12</td>\n",
       "      <td>14</td>\n",
       "    </tr>\n",
       "  </tbody>\n",
       "</table>\n",
       "<p>127607 rows × 5 columns</p>\n",
       "</div>"
      ],
      "text/plain": [
       "           source                                   english_sentence                                     hindi_sentence  eng_len  hin_len\n",
       "0             ted  politicians do not have permission to do what ...  राजनीतिज्ञों के पास जो कार्य करना चाहिए, वह कर...       12       14\n",
       "1             ted         I'd like to tell you about one such child,  मई आपको ऐसे ही एक बच्चे के बारे में बताना चाहू...        9       11\n",
       "2       indic2012  This percentage is even greater than the perce...   यह प्रतिशत भारत में हिन्दुओं प्रतिशत से अधिक है।       10        9\n",
       "3             ted  what we really mean is that they're bad at not...     हम ये नहीं कहना चाहते कि वो ध्यान नहीं दे पाते       12       11\n",
       "4       indic2012  .The ending portion of these Vedas is called U...        इन्हीं वेदों का अंतिम भाग उपनिषद कहलाता है।        9        8\n",
       "...           ...                                                ...                                                ...      ...      ...\n",
       "127602  indic2012  Examples of art deco construction can be found...  आर्ट डेको शैली के निर्माण मैरीन ड्राइव और ओवल ...       15       15\n",
       "127603        ted                          and put it in our cheeks.                    और अपने गालों में डाल लेते हैं।        6        7\n",
       "127604      tides  As for the other derivatives of sulphur , the ...  जहां तक गंधक के अन्य उत्पादों का प्रश्न है , द...       36       34\n",
       "127605      tides  its complicated functioning is defined thus in...  Zरचना-प्रकिया को उसने एक पहेली में यों बांधा है .       11       10\n",
       "127606        ted  They've just won four government contracts to ...  हाल ही में उन्हें सरकारी ठेका मिला है करीब सौ ...       12       14\n",
       "\n",
       "[127607 rows x 5 columns]"
      ]
     },
     "execution_count": 8,
     "metadata": {},
     "output_type": "execute_result"
    }
   ],
   "source": [
    "df"
   ]
  },
  {
   "cell_type": "code",
   "execution_count": 9,
   "id": "a17df5a3",
   "metadata": {
    "execution": {
     "iopub.execute_input": "2024-02-05T10:27:05.819284Z",
     "iopub.status.busy": "2024-02-05T10:27:05.818815Z",
     "iopub.status.idle": "2024-02-05T10:27:05.840118Z",
     "shell.execute_reply": "2024-02-05T10:27:05.838871Z"
    },
    "papermill": {
     "duration": 0.036674,
     "end_time": "2024-02-05T10:27:05.843588",
     "exception": false,
     "start_time": "2024-02-05T10:27:05.806914",
     "status": "completed"
    },
    "tags": []
   },
   "outputs": [
    {
     "name": "stdout",
     "output_type": "stream",
     "text": [
      "Size of dataset to use: (106939, 5)\n"
     ]
    }
   ],
   "source": [
    "df = df[(df['eng_len'] <= MAX_FILTER_LEN) & (df['hin_len'] <= MAX_FILTER_LEN)]\n",
    "print(f\"Size of dataset to use: {df.shape}\")"
   ]
  },
  {
   "cell_type": "code",
   "execution_count": 10,
   "id": "5c7001a5",
   "metadata": {
    "execution": {
     "iopub.execute_input": "2024-02-05T10:27:05.864441Z",
     "iopub.status.busy": "2024-02-05T10:27:05.863978Z",
     "iopub.status.idle": "2024-02-05T10:27:08.265973Z",
     "shell.execute_reply": "2024-02-05T10:27:08.264756Z"
    },
    "papermill": {
     "duration": 2.415514,
     "end_time": "2024-02-05T10:27:08.268537",
     "exception": false,
     "start_time": "2024-02-05T10:27:05.853023",
     "status": "completed"
    },
    "tags": []
   },
   "outputs": [
    {
     "name": "stderr",
     "output_type": "stream",
     "text": [
      "/tmp/ipykernel_18/422261299.py:2: SettingWithCopyWarning: \n",
      "A value is trying to be set on a copy of a slice from a DataFrame.\n",
      "Try using .loc[row_indexer,col_indexer] = value instead\n",
      "\n",
      "See the caveats in the documentation: https://pandas.pydata.org/pandas-docs/stable/user_guide/indexing.html#returning-a-view-versus-a-copy\n",
      "  df['english_sentence']=df['english_sentence'].apply(lambda x: ''.join(ch for ch in x if ch not in filters))\n",
      "/tmp/ipykernel_18/422261299.py:3: SettingWithCopyWarning: \n",
      "A value is trying to be set on a copy of a slice from a DataFrame.\n",
      "Try using .loc[row_indexer,col_indexer] = value instead\n",
      "\n",
      "See the caveats in the documentation: https://pandas.pydata.org/pandas-docs/stable/user_guide/indexing.html#returning-a-view-versus-a-copy\n",
      "  df['hindi_sentence']=df['hindi_sentence'].apply(lambda x: ''.join(ch for ch in x if ch not in filters))\n"
     ]
    }
   ],
   "source": [
    "filters = '!\"#$%&()*+,-./:;=?@[\\\\]^_`{|}~\\t\\n'\n",
    "df['english_sentence']=df['english_sentence'].apply(lambda x: ''.join(ch for ch in x if ch not in filters))\n",
    "df['hindi_sentence']=df['hindi_sentence'].apply(lambda x: ''.join(ch for ch in x if ch not in filters))"
   ]
  },
  {
   "cell_type": "code",
   "execution_count": 11,
   "id": "ff9640dc",
   "metadata": {
    "execution": {
     "iopub.execute_input": "2024-02-05T10:27:08.289997Z",
     "iopub.status.busy": "2024-02-05T10:27:08.289594Z",
     "iopub.status.idle": "2024-02-05T10:27:08.459901Z",
     "shell.execute_reply": "2024-02-05T10:27:08.458454Z"
    },
    "papermill": {
     "duration": 0.184749,
     "end_time": "2024-02-05T10:27:08.463168",
     "exception": false,
     "start_time": "2024-02-05T10:27:08.278419",
     "status": "completed"
    },
    "tags": []
   },
   "outputs": [
    {
     "name": "stderr",
     "output_type": "stream",
     "text": [
      "/tmp/ipykernel_18/73230810.py:1: SettingWithCopyWarning: \n",
      "A value is trying to be set on a copy of a slice from a DataFrame.\n",
      "Try using .loc[row_indexer,col_indexer] = value instead\n",
      "\n",
      "See the caveats in the documentation: https://pandas.pydata.org/pandas-docs/stable/user_guide/indexing.html#returning-a-view-versus-a-copy\n",
      "  df['english_sentence'] = df['english_sentence'].apply(lambda x: \"[start] \" + x + \" [end]\")\n",
      "/tmp/ipykernel_18/73230810.py:2: SettingWithCopyWarning: \n",
      "A value is trying to be set on a copy of a slice from a DataFrame.\n",
      "Try using .loc[row_indexer,col_indexer] = value instead\n",
      "\n",
      "See the caveats in the documentation: https://pandas.pydata.org/pandas-docs/stable/user_guide/indexing.html#returning-a-view-versus-a-copy\n",
      "  df['hindi_sentence'] = df['hindi_sentence'].apply(lambda x: \"[start] \" + x + \" [end]\")\n"
     ]
    },
    {
     "data": {
      "text/html": [
       "<div>\n",
       "<style scoped>\n",
       "    .dataframe tbody tr th:only-of-type {\n",
       "        vertical-align: middle;\n",
       "    }\n",
       "\n",
       "    .dataframe tbody tr th {\n",
       "        vertical-align: top;\n",
       "    }\n",
       "\n",
       "    .dataframe thead th {\n",
       "        text-align: right;\n",
       "    }\n",
       "</style>\n",
       "<table border=\"1\" class=\"dataframe\">\n",
       "  <thead>\n",
       "    <tr style=\"text-align: right;\">\n",
       "      <th></th>\n",
       "      <th>source</th>\n",
       "      <th>english_sentence</th>\n",
       "      <th>hindi_sentence</th>\n",
       "      <th>eng_len</th>\n",
       "      <th>hin_len</th>\n",
       "    </tr>\n",
       "  </thead>\n",
       "  <tbody>\n",
       "    <tr>\n",
       "      <th>0</th>\n",
       "      <td>ted</td>\n",
       "      <td>[start] politicians do not have permission to ...</td>\n",
       "      <td>[start] राजनीतिज्ञों के पास जो कार्य करना चाहि...</td>\n",
       "      <td>12</td>\n",
       "      <td>14</td>\n",
       "    </tr>\n",
       "    <tr>\n",
       "      <th>1</th>\n",
       "      <td>ted</td>\n",
       "      <td>[start] I'd like to tell you about one such ch...</td>\n",
       "      <td>[start] मई आपको ऐसे ही एक बच्चे के बारे में बत...</td>\n",
       "      <td>9</td>\n",
       "      <td>11</td>\n",
       "    </tr>\n",
       "    <tr>\n",
       "      <th>2</th>\n",
       "      <td>indic2012</td>\n",
       "      <td>[start] This percentage is even greater than t...</td>\n",
       "      <td>[start] यह प्रतिशत भारत में हिन्दुओं प्रतिशत स...</td>\n",
       "      <td>10</td>\n",
       "      <td>9</td>\n",
       "    </tr>\n",
       "    <tr>\n",
       "      <th>3</th>\n",
       "      <td>ted</td>\n",
       "      <td>[start] what we really mean is that they're ba...</td>\n",
       "      <td>[start] हम ये नहीं कहना चाहते कि वो ध्यान नहीं...</td>\n",
       "      <td>12</td>\n",
       "      <td>11</td>\n",
       "    </tr>\n",
       "    <tr>\n",
       "      <th>4</th>\n",
       "      <td>indic2012</td>\n",
       "      <td>[start] The ending portion of these Vedas is c...</td>\n",
       "      <td>[start] इन्हीं वेदों का अंतिम भाग उपनिषद कहलात...</td>\n",
       "      <td>9</td>\n",
       "      <td>8</td>\n",
       "    </tr>\n",
       "  </tbody>\n",
       "</table>\n",
       "</div>"
      ],
      "text/plain": [
       "      source                                   english_sentence                                     hindi_sentence  eng_len  hin_len\n",
       "0        ted  [start] politicians do not have permission to ...  [start] राजनीतिज्ञों के पास जो कार्य करना चाहि...       12       14\n",
       "1        ted  [start] I'd like to tell you about one such ch...  [start] मई आपको ऐसे ही एक बच्चे के बारे में बत...        9       11\n",
       "2  indic2012  [start] This percentage is even greater than t...  [start] यह प्रतिशत भारत में हिन्दुओं प्रतिशत स...       10        9\n",
       "3        ted  [start] what we really mean is that they're ba...  [start] हम ये नहीं कहना चाहते कि वो ध्यान नहीं...       12       11\n",
       "4  indic2012  [start] The ending portion of these Vedas is c...  [start] इन्हीं वेदों का अंतिम भाग उपनिषद कहलात...        9        8"
      ]
     },
     "execution_count": 11,
     "metadata": {},
     "output_type": "execute_result"
    }
   ],
   "source": [
    "df['english_sentence'] = df['english_sentence'].apply(lambda x: \"[start] \" + x + \" [end]\")\n",
    "df['hindi_sentence'] = df['hindi_sentence'].apply(lambda x: \"[start] \" + x + \" [end]\")\n",
    "df.head()"
   ]
  },
  {
   "cell_type": "code",
   "execution_count": 12,
   "id": "fe5df74a",
   "metadata": {
    "execution": {
     "iopub.execute_input": "2024-02-05T10:27:08.484593Z",
     "iopub.status.busy": "2024-02-05T10:27:08.484172Z",
     "iopub.status.idle": "2024-02-05T10:27:08.491633Z",
     "shell.execute_reply": "2024-02-05T10:27:08.490460Z"
    },
    "papermill": {
     "duration": 0.020841,
     "end_time": "2024-02-05T10:27:08.493984",
     "exception": false,
     "start_time": "2024-02-05T10:27:08.473143",
     "status": "completed"
    },
    "tags": []
   },
   "outputs": [],
   "source": [
    "def normalize(line, is_english = True):\n",
    "    if is_english:\n",
    "        line = str(line.strip().lower())\n",
    "    else:\n",
    "        line = str(line.strip())\n",
    "\n",
    "    line = re.sub(r\"^([^ \\w])(?!\\s)\", r\"\\1 \", line)\n",
    "    line = re.sub(r\"(\\s[^ \\w])(?!\\s)\", r\"\\1 \", line)\n",
    "    line = re.sub(r\"(?!\\s)([^ \\w])$\", r\" \\1\", line)\n",
    "    line = re.sub(r\"(?!\\s)([^ \\w]\\s)\", r\" \\1\", line)\n",
    "    return line\n"
   ]
  },
  {
   "cell_type": "code",
   "execution_count": 13,
   "id": "eb9fa0e9",
   "metadata": {
    "execution": {
     "iopub.execute_input": "2024-02-05T10:27:08.515625Z",
     "iopub.status.busy": "2024-02-05T10:27:08.515202Z",
     "iopub.status.idle": "2024-02-05T10:27:08.522538Z",
     "shell.execute_reply": "2024-02-05T10:27:08.521210Z"
    },
    "papermill": {
     "duration": 0.021104,
     "end_time": "2024-02-05T10:27:08.525050",
     "exception": false,
     "start_time": "2024-02-05T10:27:08.503946",
     "status": "completed"
    },
    "tags": []
   },
   "outputs": [],
   "source": [
    "def train_validate_test_split(df, train_percent=.8, validate_percent=.1, seed=200):\n",
    "    df = df.sample(frac=1.,random_state=seed)\n",
    "    m = len(df.index)\n",
    "    train_end = int(train_percent * m)\n",
    "    validate_end = int(validate_percent * m) + train_end\n",
    "    train = df.iloc[:train_end, :]\n",
    "    validate = df.iloc[train_end:validate_end, :]\n",
    "    test = df.iloc[validate_end:, :]\n",
    "    return train, validate, test"
   ]
  },
  {
   "cell_type": "code",
   "execution_count": 14,
   "id": "bed7e0ca",
   "metadata": {
    "execution": {
     "iopub.execute_input": "2024-02-05T10:27:08.547430Z",
     "iopub.status.busy": "2024-02-05T10:27:08.546498Z",
     "iopub.status.idle": "2024-02-05T10:27:08.587060Z",
     "shell.execute_reply": "2024-02-05T10:27:08.585542Z"
    },
    "papermill": {
     "duration": 0.054542,
     "end_time": "2024-02-05T10:27:08.589711",
     "exception": false,
     "start_time": "2024-02-05T10:27:08.535169",
     "status": "completed"
    },
    "tags": []
   },
   "outputs": [
    {
     "name": "stdout",
     "output_type": "stream",
     "text": [
      "train dataset shape : (85551, 5)\n",
      "val dataset shape : (16040, 5)\n",
      "test dataset shape : (5348, 5)\n"
     ]
    }
   ],
   "source": [
    "train_df, val_df, test_df = train_validate_test_split(\n",
    "                                        df, \n",
    "                                        train_percent=.8, \n",
    "                                        validate_percent=.15, \n",
    "                                        seed=7)\n",
    "print(f\"train dataset shape : {train_df.shape}\")\n",
    "print(f\"val dataset shape : {val_df.shape}\")\n",
    "print(f\"test dataset shape : {test_df.shape}\")"
   ]
  },
  {
   "cell_type": "code",
   "execution_count": 15,
   "id": "5a243c58",
   "metadata": {
    "execution": {
     "iopub.execute_input": "2024-02-05T10:27:08.612238Z",
     "iopub.status.busy": "2024-02-05T10:27:08.611111Z",
     "iopub.status.idle": "2024-02-05T10:27:08.624459Z",
     "shell.execute_reply": "2024-02-05T10:27:08.623632Z"
    },
    "papermill": {
     "duration": 0.027067,
     "end_time": "2024-02-05T10:27:08.626773",
     "exception": false,
     "start_time": "2024-02-05T10:27:08.599706",
     "status": "completed"
    },
    "tags": []
   },
   "outputs": [
    {
     "data": {
      "text/html": [
       "<div>\n",
       "<style scoped>\n",
       "    .dataframe tbody tr th:only-of-type {\n",
       "        vertical-align: middle;\n",
       "    }\n",
       "\n",
       "    .dataframe tbody tr th {\n",
       "        vertical-align: top;\n",
       "    }\n",
       "\n",
       "    .dataframe thead th {\n",
       "        text-align: right;\n",
       "    }\n",
       "</style>\n",
       "<table border=\"1\" class=\"dataframe\">\n",
       "  <thead>\n",
       "    <tr style=\"text-align: right;\">\n",
       "      <th></th>\n",
       "      <th>source</th>\n",
       "      <th>english_sentence</th>\n",
       "      <th>hindi_sentence</th>\n",
       "      <th>eng_len</th>\n",
       "      <th>hin_len</th>\n",
       "    </tr>\n",
       "  </thead>\n",
       "  <tbody>\n",
       "    <tr>\n",
       "      <th>78102</th>\n",
       "      <td>ted</td>\n",
       "      <td>[start] to invoice hospitals [end]</td>\n",
       "      <td>[start] हॉस्पिटलों को बिल कैसे भेजें । [end]</td>\n",
       "      <td>3</td>\n",
       "      <td>6</td>\n",
       "    </tr>\n",
       "    <tr>\n",
       "      <th>90654</th>\n",
       "      <td>ted</td>\n",
       "      <td>[start] That's the essence [end]</td>\n",
       "      <td>[start] देखिये यही है मुद्दे की बात [end]</td>\n",
       "      <td>3</td>\n",
       "      <td>6</td>\n",
       "    </tr>\n",
       "    <tr>\n",
       "      <th>98321</th>\n",
       "      <td>ted</td>\n",
       "      <td>[start] again this is in our lab [end]</td>\n",
       "      <td>[start] फिर से यह हमारी प्रयोगशाला में है [end]</td>\n",
       "      <td>6</td>\n",
       "      <td>7</td>\n",
       "    </tr>\n",
       "    <tr>\n",
       "      <th>33150</th>\n",
       "      <td>ted</td>\n",
       "      <td>[start] heating and air conditioning [end]</td>\n",
       "      <td>[start] गरमाई और वातानुकूलन [end]</td>\n",
       "      <td>4</td>\n",
       "      <td>3</td>\n",
       "    </tr>\n",
       "    <tr>\n",
       "      <th>4550</th>\n",
       "      <td>tides</td>\n",
       "      <td>[start] “ If a police officer will not use bra...</td>\n",
       "      <td>[start] उनका सवाल है  ' ' यदि पुलिस अधिकारी बह...</td>\n",
       "      <td>18</td>\n",
       "      <td>20</td>\n",
       "    </tr>\n",
       "    <tr>\n",
       "      <th>...</th>\n",
       "      <td>...</td>\n",
       "      <td>...</td>\n",
       "      <td>...</td>\n",
       "      <td>...</td>\n",
       "      <td>...</td>\n",
       "    </tr>\n",
       "    <tr>\n",
       "      <th>70100</th>\n",
       "      <td>tides</td>\n",
       "      <td>[start] We do not need a Ministry of Informati...</td>\n",
       "      <td>[start] हमें सूचना और प्रसारण मंत्रालय अथवा प्...</td>\n",
       "      <td>22</td>\n",
       "      <td>18</td>\n",
       "    </tr>\n",
       "    <tr>\n",
       "      <th>20607</th>\n",
       "      <td>tides</td>\n",
       "      <td>[start] Time is precious in pro tennis  [end]</td>\n",
       "      <td>[start] पेशेवर टेनिस में वक्त भत कीमती है  [end]</td>\n",
       "      <td>7</td>\n",
       "      <td>8</td>\n",
       "    </tr>\n",
       "    <tr>\n",
       "      <th>97193</th>\n",
       "      <td>tides</td>\n",
       "      <td>[start] TThe carvings on their fences and gate...</td>\n",
       "      <td>[start] उनकी बाडियो और द्वारों पर की गयी खुदाई...</td>\n",
       "      <td>26</td>\n",
       "      <td>28</td>\n",
       "    </tr>\n",
       "    <tr>\n",
       "      <th>60291</th>\n",
       "      <td>tides</td>\n",
       "      <td>[start] The stage is now set for a potentially...</td>\n",
       "      <td>[start] जाहिर है  हानिकारक टकराव का माहौल पूरी...</td>\n",
       "      <td>11</td>\n",
       "      <td>14</td>\n",
       "    </tr>\n",
       "    <tr>\n",
       "      <th>93494</th>\n",
       "      <td>indic2012</td>\n",
       "      <td>[start] 1By the first vedavayas 100 purvas one...</td>\n",
       "      <td>[start] १ सर्वप्रथम वेदव्यास द्वारा १०० पर्वों...</td>\n",
       "      <td>19</td>\n",
       "      <td>25</td>\n",
       "    </tr>\n",
       "  </tbody>\n",
       "</table>\n",
       "<p>85551 rows × 5 columns</p>\n",
       "</div>"
      ],
      "text/plain": [
       "          source                                   english_sentence                                     hindi_sentence  eng_len  hin_len\n",
       "78102        ted                 [start] to invoice hospitals [end]       [start] हॉस्पिटलों को बिल कैसे भेजें । [end]        3        6\n",
       "90654        ted                   [start] That's the essence [end]          [start] देखिये यही है मुद्दे की बात [end]        3        6\n",
       "98321        ted             [start] again this is in our lab [end]    [start] फिर से यह हमारी प्रयोगशाला में है [end]        6        7\n",
       "33150        ted         [start] heating and air conditioning [end]                  [start] गरमाई और वातानुकूलन [end]        4        3\n",
       "4550       tides  [start] “ If a police officer will not use bra...  [start] उनका सवाल है  ' ' यदि पुलिस अधिकारी बह...       18       20\n",
       "...          ...                                                ...                                                ...      ...      ...\n",
       "70100      tides  [start] We do not need a Ministry of Informati...  [start] हमें सूचना और प्रसारण मंत्रालय अथवा प्...       22       18\n",
       "20607      tides      [start] Time is precious in pro tennis  [end]   [start] पेशेवर टेनिस में वक्त भत कीमती है  [end]        7        8\n",
       "97193      tides  [start] TThe carvings on their fences and gate...  [start] उनकी बाडियो और द्वारों पर की गयी खुदाई...       26       28\n",
       "60291      tides  [start] The stage is now set for a potentially...  [start] जाहिर है  हानिकारक टकराव का माहौल पूरी...       11       14\n",
       "93494  indic2012  [start] 1By the first vedavayas 100 purvas one...  [start] १ सर्वप्रथम वेदव्यास द्वारा १०० पर्वों...       19       25\n",
       "\n",
       "[85551 rows x 5 columns]"
      ]
     },
     "execution_count": 15,
     "metadata": {},
     "output_type": "execute_result"
    }
   ],
   "source": [
    "train_df"
   ]
  },
  {
   "cell_type": "code",
   "execution_count": 16,
   "id": "cab74c2a",
   "metadata": {
    "execution": {
     "iopub.execute_input": "2024-02-05T10:27:08.649390Z",
     "iopub.status.busy": "2024-02-05T10:27:08.648965Z",
     "iopub.status.idle": "2024-02-05T10:27:08.655709Z",
     "shell.execute_reply": "2024-02-05T10:27:08.654498Z"
    },
    "papermill": {
     "duration": 0.021249,
     "end_time": "2024-02-05T10:27:08.658450",
     "exception": false,
     "start_time": "2024-02-05T10:27:08.637201",
     "status": "completed"
    },
    "tags": []
   },
   "outputs": [],
   "source": [
    "def create_iterable(sample_df, from_lang, to_lang):\n",
    "    \"\"\"\n",
    "    This converts pandas dataframe into list of tuples\n",
    "    consisting of (german sentences, english sentences).\n",
    "    \n",
    "    This iterable in used in our data preparation\n",
    "    \"\"\"\n",
    "    sample_iter = sample_df.to_dict(orient='records')\n",
    "    out_iter = [(dict1[from_lang], dict1[to_lang]) for dict1 in sample_iter]\n",
    "    print(f\"length of iterable: {len(out_iter)}\")\n",
    "    return out_iter"
   ]
  },
  {
   "cell_type": "code",
   "execution_count": 17,
   "id": "29970e69",
   "metadata": {
    "execution": {
     "iopub.execute_input": "2024-02-05T10:27:08.682304Z",
     "iopub.status.busy": "2024-02-05T10:27:08.681756Z",
     "iopub.status.idle": "2024-02-05T10:27:08.686963Z",
     "shell.execute_reply": "2024-02-05T10:27:08.685913Z"
    },
    "papermill": {
     "duration": 0.019773,
     "end_time": "2024-02-05T10:27:08.689522",
     "exception": false,
     "start_time": "2024-02-05T10:27:08.669749",
     "status": "completed"
    },
    "tags": []
   },
   "outputs": [],
   "source": [
    "from_lang = \"english_sentence\"\n",
    "to_lang = \"hindi_sentence\""
   ]
  },
  {
   "cell_type": "code",
   "execution_count": 18,
   "id": "c8b7147e",
   "metadata": {
    "execution": {
     "iopub.execute_input": "2024-02-05T10:27:08.711968Z",
     "iopub.status.busy": "2024-02-05T10:27:08.711589Z",
     "iopub.status.idle": "2024-02-05T10:27:09.404781Z",
     "shell.execute_reply": "2024-02-05T10:27:09.403156Z"
    },
    "papermill": {
     "duration": 0.707388,
     "end_time": "2024-02-05T10:27:09.407258",
     "exception": false,
     "start_time": "2024-02-05T10:27:08.699870",
     "status": "completed"
    },
    "tags": []
   },
   "outputs": [
    {
     "name": "stdout",
     "output_type": "stream",
     "text": [
      "length of iterable: 85551\n",
      "length of iterable: 16040\n",
      "length of iterable: 5348\n"
     ]
    }
   ],
   "source": [
    "train_iter = create_iterable(train_df, from_lang, to_lang)\n",
    "val_iter = create_iterable(val_df, from_lang, to_lang)\n",
    "test_iter = create_iterable(test_df, from_lang, to_lang)"
   ]
  },
  {
   "cell_type": "markdown",
   "id": "d030261d",
   "metadata": {
    "papermill": {
     "duration": 0.010231,
     "end_time": "2024-02-05T10:27:09.427929",
     "exception": false,
     "start_time": "2024-02-05T10:27:09.417698",
     "status": "completed"
    },
    "tags": []
   },
   "source": [
    "# Build Vocabulary"
   ]
  },
  {
   "cell_type": "code",
   "execution_count": 19,
   "id": "ed57b791",
   "metadata": {
    "execution": {
     "iopub.execute_input": "2024-02-05T10:27:09.450364Z",
     "iopub.status.busy": "2024-02-05T10:27:09.449946Z",
     "iopub.status.idle": "2024-02-05T10:27:11.117673Z",
     "shell.execute_reply": "2024-02-05T10:27:11.116762Z"
    },
    "papermill": {
     "duration": 1.681726,
     "end_time": "2024-02-05T10:27:11.119994",
     "exception": false,
     "start_time": "2024-02-05T10:27:09.438268",
     "status": "completed"
    },
    "tags": []
   },
   "outputs": [
    {
     "data": {
      "image/png": "[encoded data removed]",
      "text/plain": [
       "<Figure size 640x480 with 1 Axes>"
      ]
     },
     "metadata": {},
     "output_type": "display_data"
    }
   ],
   "source": [
    "# histogram of sentence length in tokens\n",
    "en_lengths = [len(e.split()) for e, h in train_iter]\n",
    "hn_lengths = [len(h.split()) for e, h in train_iter]\n",
    "\n",
    "plt.hist(en_lengths, label=\"en\", color=\"red\", alpha=0.33)\n",
    "plt.hist(hn_lengths, label=\"hn\", color=\"blue\", alpha=0.33)\n",
    "plt.yscale(\"log\")     # sentence length fits Benford\"s law\n",
    "plt.ylim(plt.ylim())  # make y-axis consistent for both plots\n",
    "plt.plot([max(en_lengths), max(en_lengths)], plt.ylim(), color=\"red\")\n",
    "plt.plot([max(hn_lengths), max(hn_lengths)], plt.ylim(), color=\"blue\")\n",
    "plt.legend()\n",
    "plt.title(\"Examples count vs Token length\")\n",
    "plt.show()"
   ]
  },
  {
   "cell_type": "code",
   "execution_count": null,
   "id": "619b6d0d",
   "metadata": {
    "papermill": {
     "duration": 0.010608,
     "end_time": "2024-02-05T10:27:11.141449",
     "exception": false,
     "start_time": "2024-02-05T10:27:11.130841",
     "status": "completed"
    },
    "tags": []
   },
   "outputs": [],
   "source": []
  },
  {
   "cell_type": "code",
   "execution_count": null,
   "id": "e6990e30",
   "metadata": {
    "papermill": {
     "duration": 0.010407,
     "end_time": "2024-02-05T10:27:11.162544",
     "exception": false,
     "start_time": "2024-02-05T10:27:11.152137",
     "status": "completed"
    },
    "tags": []
   },
   "outputs": [],
   "source": []
  }
 ],
 "metadata": {
  "kaggle": {
   "accelerator": "none",
   "dataSources": [
    {
     "datasetId": 790209,
     "sourceId": 1357156,
     "sourceType": "datasetVersion"
    }
   ],
   "dockerImageVersionId": 30646,
   "isGpuEnabled": false,
   "isInternetEnabled": true,
   "language": "python",
   "sourceType": "notebook"
  },
  "kernelspec": {
   "display_name": "Python 3",
   "language": "python",
   "name": "python3"
  },
  "language_info": {
   "codemirror_mode": {
    "name": "ipython",
    "version": 3
   },
   "file_extension": ".py",
   "mimetype": "text/x-python",
   "name": "python",
   "nbconvert_exporter": "python",
   "pygments_lexer": "ipython3",
   "version": "3.10.13"
  },
  "papermill": {
   "default_parameters": {},
   "duration": 15.265779,
   "end_time": "2024-02-05T10:27:11.894835",
   "environment_variables": {},
   "exception": null,
   "input_path": "__notebook__.ipynb",
   "output_path": "__notebook__.ipynb",
   "parameters": {},
   "start_time": "2024-02-05T10:26:56.629056",
   "version": "2.5.0"
  }
 },
 "nbformat": 4,
 "nbformat_minor": 5
}
