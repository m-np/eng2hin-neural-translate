{
 "cells": [
  {
   "cell_type": "markdown",
   "id": "6dc43080",
   "metadata": {
    "papermill": {
     "duration": 0.017113,
     "end_time": "2024-02-07T02:43:04.607064",
     "exception": false,
     "start_time": "2024-02-07T02:43:04.589951",
     "status": "completed"
    },
    "tags": []
   },
   "source": [
    "# Data Preparation for English to Hindi Translation\n",
    "\n",
    "This Notebook works on cleaning and processing data for English to Hindi translation model"
   ]
  },
  {
   "cell_type": "code",
   "execution_count": 1,
   "id": "d320d053",
   "metadata": {
    "execution": {
     "iopub.execute_input": "2024-02-07T02:43:04.641750Z",
     "iopub.status.busy": "2024-02-07T02:43:04.641313Z",
     "iopub.status.idle": "2024-02-07T02:43:08.217068Z",
     "shell.execute_reply": "2024-02-07T02:43:08.215660Z"
    },
    "papermill": {
     "duration": 3.597051,
     "end_time": "2024-02-07T02:43:08.220550",
     "exception": false,
     "start_time": "2024-02-07T02:43:04.623499",
     "status": "completed"
    },
    "tags": []
   },
   "outputs": [],
   "source": [
    "import numpy as np \n",
    "import pandas as pd \n",
    "\n",
    "import re\n",
    "import string\n",
    "from string import digits\n",
    "\n",
    "import nltk\n",
    "from nltk.corpus import stopwords\n",
    "from nltk import word_tokenize\n",
    "\n",
    "import matplotlib.pyplot as plt\n",
    "import os\n",
    "from tqdm import tqdm\n",
    "\n",
    "pd.set_option('display.max_rows', 500)\n",
    "pd.set_option('display.max_columns', 500)\n",
    "pd.set_option('display.width', 1000)"
   ]
  },
  {
   "cell_type": "code",
   "execution_count": 2,
   "id": "c876bb2f",
   "metadata": {
    "execution": {
     "iopub.execute_input": "2024-02-07T02:43:08.253753Z",
     "iopub.status.busy": "2024-02-07T02:43:08.253190Z",
     "iopub.status.idle": "2024-02-07T02:43:14.615820Z",
     "shell.execute_reply": "2024-02-07T02:43:14.614459Z"
    },
    "papermill": {
     "duration": 6.382836,
     "end_time": "2024-02-07T02:43:14.619110",
     "exception": false,
     "start_time": "2024-02-07T02:43:08.236274",
     "status": "completed"
    },
    "tags": []
   },
   "outputs": [],
   "source": [
    "# torch packages\n",
    "import torch\n",
    "import torch.nn as nn\n",
    "import torch.nn.functional as F\n",
    "from torch import Tensor\n",
    "import torch.optim as optim\n",
    "\n",
    "# load and build datasets\n",
    "import torchtext\n",
    "from torchtext.data.functional import to_map_style_dataset\n",
    "from torch.nn.functional import pad\n",
    "from torch.utils.data import DataLoader\n",
    "from torchtext.vocab import build_vocab_from_iterator\n",
    "import torchtext.datasets as datasets"
   ]
  },
  {
   "cell_type": "markdown",
   "id": "3849f2e4",
   "metadata": {
    "papermill": {
     "duration": 0.016697,
     "end_time": "2024-02-07T02:43:14.652002",
     "exception": false,
     "start_time": "2024-02-07T02:43:14.635305",
     "status": "completed"
    },
    "tags": []
   },
   "source": [
    "# Data Preprocessing "
   ]
  },
  {
   "cell_type": "code",
   "execution_count": 3,
   "id": "2f5ed8a1",
   "metadata": {
    "execution": {
     "iopub.execute_input": "2024-02-07T02:43:14.688447Z",
     "iopub.status.busy": "2024-02-07T02:43:14.687443Z",
     "iopub.status.idle": "2024-02-07T02:43:16.252017Z",
     "shell.execute_reply": "2024-02-07T02:43:16.250738Z"
    },
    "papermill": {
     "duration": 1.58631,
     "end_time": "2024-02-07T02:43:16.254762",
     "exception": false,
     "start_time": "2024-02-07T02:43:14.668452",
     "status": "completed"
    },
    "tags": []
   },
   "outputs": [
    {
     "data": {
      "text/html": [
       "<div>\n",
       "<style scoped>\n",
       "    .dataframe tbody tr th:only-of-type {\n",
       "        vertical-align: middle;\n",
       "    }\n",
       "\n",
       "    .dataframe tbody tr th {\n",
       "        vertical-align: top;\n",
       "    }\n",
       "\n",
       "    .dataframe thead th {\n",
       "        text-align: right;\n",
       "    }\n",
       "</style>\n",
       "<table border=\"1\" class=\"dataframe\">\n",
       "  <thead>\n",
       "    <tr style=\"text-align: right;\">\n",
       "      <th></th>\n",
       "      <th>source</th>\n",
       "      <th>english_sentence</th>\n",
       "      <th>hindi_sentence</th>\n",
       "    </tr>\n",
       "  </thead>\n",
       "  <tbody>\n",
       "    <tr>\n",
       "      <th>0</th>\n",
       "      <td>ted</td>\n",
       "      <td>politicians do not have permission to do what ...</td>\n",
       "      <td>राजनीतिज्ञों के पास जो कार्य करना चाहिए, वह कर...</td>\n",
       "    </tr>\n",
       "    <tr>\n",
       "      <th>1</th>\n",
       "      <td>ted</td>\n",
       "      <td>I'd like to tell you about one such child,</td>\n",
       "      <td>मई आपको ऐसे ही एक बच्चे के बारे में बताना चाहू...</td>\n",
       "    </tr>\n",
       "    <tr>\n",
       "      <th>2</th>\n",
       "      <td>indic2012</td>\n",
       "      <td>This percentage is even greater than the perce...</td>\n",
       "      <td>यह प्रतिशत भारत में हिन्दुओं प्रतिशत से अधिक है।</td>\n",
       "    </tr>\n",
       "    <tr>\n",
       "      <th>3</th>\n",
       "      <td>ted</td>\n",
       "      <td>what we really mean is that they're bad at not...</td>\n",
       "      <td>हम ये नहीं कहना चाहते कि वो ध्यान नहीं दे पाते</td>\n",
       "    </tr>\n",
       "    <tr>\n",
       "      <th>4</th>\n",
       "      <td>indic2012</td>\n",
       "      <td>.The ending portion of these Vedas is called U...</td>\n",
       "      <td>इन्हीं वेदों का अंतिम भाग उपनिषद कहलाता है।</td>\n",
       "    </tr>\n",
       "  </tbody>\n",
       "</table>\n",
       "</div>"
      ],
      "text/plain": [
       "      source                                   english_sentence                                     hindi_sentence\n",
       "0        ted  politicians do not have permission to do what ...  राजनीतिज्ञों के पास जो कार्य करना चाहिए, वह कर...\n",
       "1        ted         I'd like to tell you about one such child,  मई आपको ऐसे ही एक बच्चे के बारे में बताना चाहू...\n",
       "2  indic2012  This percentage is even greater than the perce...   यह प्रतिशत भारत में हिन्दुओं प्रतिशत से अधिक है।\n",
       "3        ted  what we really mean is that they're bad at not...     हम ये नहीं कहना चाहते कि वो ध्यान नहीं दे पाते\n",
       "4  indic2012  .The ending portion of these Vedas is called U...        इन्हीं वेदों का अंतिम भाग उपनिषद कहलाता है।"
      ]
     },
     "execution_count": 3,
     "metadata": {},
     "output_type": "execute_result"
    }
   ],
   "source": [
    "df = pd.read_csv(\"/kaggle/input/hindi-english-truncated-corpus/Hindi_English_Truncated_Corpus.csv\")\n",
    "df.head()"
   ]
  },
  {
   "cell_type": "code",
   "execution_count": 4,
   "id": "9424e03b",
   "metadata": {
    "execution": {
     "iopub.execute_input": "2024-02-07T02:43:16.289942Z",
     "iopub.status.busy": "2024-02-07T02:43:16.289507Z",
     "iopub.status.idle": "2024-02-07T02:43:16.314824Z",
     "shell.execute_reply": "2024-02-07T02:43:16.313527Z"
    },
    "papermill": {
     "duration": 0.046235,
     "end_time": "2024-02-07T02:43:16.317735",
     "exception": false,
     "start_time": "2024-02-07T02:43:16.271500",
     "status": "completed"
    },
    "tags": []
   },
   "outputs": [],
   "source": [
    "df[\"english_sentence\"] = df[\"english_sentence\"].astype(\"str\")\n",
    "df[\"hindi_sentence\"] = df[\"hindi_sentence\"].astype(\"str\")"
   ]
  },
  {
   "cell_type": "code",
   "execution_count": 5,
   "id": "3fc3a925",
   "metadata": {
    "execution": {
     "iopub.execute_input": "2024-02-07T02:43:16.354669Z",
     "iopub.status.busy": "2024-02-07T02:43:16.353973Z",
     "iopub.status.idle": "2024-02-07T02:43:16.362022Z",
     "shell.execute_reply": "2024-02-07T02:43:16.360985Z"
    },
    "papermill": {
     "duration": 0.030026,
     "end_time": "2024-02-07T02:43:16.364396",
     "exception": false,
     "start_time": "2024-02-07T02:43:16.334370",
     "status": "completed"
    },
    "tags": []
   },
   "outputs": [
    {
     "data": {
      "text/plain": [
       "\"I'd like to tell you about one such child,\""
      ]
     },
     "execution_count": 5,
     "metadata": {},
     "output_type": "execute_result"
    }
   ],
   "source": [
    "df.loc[1, \"english_sentence\"]"
   ]
  },
  {
   "cell_type": "code",
   "execution_count": 6,
   "id": "fdb142ce",
   "metadata": {
    "execution": {
     "iopub.execute_input": "2024-02-07T02:43:16.400896Z",
     "iopub.status.busy": "2024-02-07T02:43:16.399791Z",
     "iopub.status.idle": "2024-02-07T02:43:16.409403Z",
     "shell.execute_reply": "2024-02-07T02:43:16.408078Z"
    },
    "papermill": {
     "duration": 0.031894,
     "end_time": "2024-02-07T02:43:16.413472",
     "exception": false,
     "start_time": "2024-02-07T02:43:16.381578",
     "status": "completed"
    },
    "tags": []
   },
   "outputs": [
    {
     "data": {
      "text/plain": [
       "source              object\n",
       "english_sentence    object\n",
       "hindi_sentence      object\n",
       "dtype: object"
      ]
     },
     "execution_count": 6,
     "metadata": {},
     "output_type": "execute_result"
    }
   ],
   "source": [
    "df.dtypes"
   ]
  },
  {
   "cell_type": "markdown",
   "id": "8823ffdf",
   "metadata": {
    "papermill": {
     "duration": 0.016405,
     "end_time": "2024-02-07T02:43:16.445893",
     "exception": false,
     "start_time": "2024-02-07T02:43:16.429488",
     "status": "completed"
    },
    "tags": []
   },
   "source": [
    "Choose data with max sentence less than 30 char"
   ]
  },
  {
   "cell_type": "code",
   "execution_count": 7,
   "id": "b76687c6",
   "metadata": {
    "execution": {
     "iopub.execute_input": "2024-02-07T02:43:16.481459Z",
     "iopub.status.busy": "2024-02-07T02:43:16.480697Z",
     "iopub.status.idle": "2024-02-07T02:43:16.486720Z",
     "shell.execute_reply": "2024-02-07T02:43:16.485107Z"
    },
    "papermill": {
     "duration": 0.028049,
     "end_time": "2024-02-07T02:43:16.489972",
     "exception": false,
     "start_time": "2024-02-07T02:43:16.461923",
     "status": "completed"
    },
    "tags": []
   },
   "outputs": [],
   "source": [
    "MAX_FILTER_LEN = 20"
   ]
  },
  {
   "cell_type": "code",
   "execution_count": 8,
   "id": "4a56a4d5",
   "metadata": {
    "execution": {
     "iopub.execute_input": "2024-02-07T02:43:16.525365Z",
     "iopub.status.busy": "2024-02-07T02:43:16.524952Z",
     "iopub.status.idle": "2024-02-07T02:43:17.117245Z",
     "shell.execute_reply": "2024-02-07T02:43:17.115858Z"
    },
    "papermill": {
     "duration": 0.612993,
     "end_time": "2024-02-07T02:43:17.120138",
     "exception": false,
     "start_time": "2024-02-07T02:43:16.507145",
     "status": "completed"
    },
    "tags": []
   },
   "outputs": [],
   "source": [
    "df[\"eng_len\"] = df[\"english_sentence\"].apply(lambda x: len(str(x).split(\" \")))\n",
    "df[\"hin_len\"] = df[\"hindi_sentence\"].apply(lambda x: len(str(x).split(\" \")))"
   ]
  },
  {
   "cell_type": "code",
   "execution_count": 9,
   "id": "c6af70e9",
   "metadata": {
    "execution": {
     "iopub.execute_input": "2024-02-07T02:43:17.155569Z",
     "iopub.status.busy": "2024-02-07T02:43:17.155143Z",
     "iopub.status.idle": "2024-02-07T02:43:17.178758Z",
     "shell.execute_reply": "2024-02-07T02:43:17.177275Z"
    },
    "papermill": {
     "duration": 0.044239,
     "end_time": "2024-02-07T02:43:17.181310",
     "exception": false,
     "start_time": "2024-02-07T02:43:17.137071",
     "status": "completed"
    },
    "tags": []
   },
   "outputs": [
    {
     "data": {
      "text/html": [
       "<div>\n",
       "<style scoped>\n",
       "    .dataframe tbody tr th:only-of-type {\n",
       "        vertical-align: middle;\n",
       "    }\n",
       "\n",
       "    .dataframe tbody tr th {\n",
       "        vertical-align: top;\n",
       "    }\n",
       "\n",
       "    .dataframe thead th {\n",
       "        text-align: right;\n",
       "    }\n",
       "</style>\n",
       "<table border=\"1\" class=\"dataframe\">\n",
       "  <thead>\n",
       "    <tr style=\"text-align: right;\">\n",
       "      <th></th>\n",
       "      <th>source</th>\n",
       "      <th>english_sentence</th>\n",
       "      <th>hindi_sentence</th>\n",
       "      <th>eng_len</th>\n",
       "      <th>hin_len</th>\n",
       "    </tr>\n",
       "  </thead>\n",
       "  <tbody>\n",
       "    <tr>\n",
       "      <th>0</th>\n",
       "      <td>ted</td>\n",
       "      <td>politicians do not have permission to do what ...</td>\n",
       "      <td>राजनीतिज्ञों के पास जो कार्य करना चाहिए, वह कर...</td>\n",
       "      <td>12</td>\n",
       "      <td>14</td>\n",
       "    </tr>\n",
       "    <tr>\n",
       "      <th>1</th>\n",
       "      <td>ted</td>\n",
       "      <td>I'd like to tell you about one such child,</td>\n",
       "      <td>मई आपको ऐसे ही एक बच्चे के बारे में बताना चाहू...</td>\n",
       "      <td>9</td>\n",
       "      <td>11</td>\n",
       "    </tr>\n",
       "    <tr>\n",
       "      <th>2</th>\n",
       "      <td>indic2012</td>\n",
       "      <td>This percentage is even greater than the perce...</td>\n",
       "      <td>यह प्रतिशत भारत में हिन्दुओं प्रतिशत से अधिक है।</td>\n",
       "      <td>10</td>\n",
       "      <td>9</td>\n",
       "    </tr>\n",
       "    <tr>\n",
       "      <th>3</th>\n",
       "      <td>ted</td>\n",
       "      <td>what we really mean is that they're bad at not...</td>\n",
       "      <td>हम ये नहीं कहना चाहते कि वो ध्यान नहीं दे पाते</td>\n",
       "      <td>12</td>\n",
       "      <td>11</td>\n",
       "    </tr>\n",
       "    <tr>\n",
       "      <th>4</th>\n",
       "      <td>indic2012</td>\n",
       "      <td>.The ending portion of these Vedas is called U...</td>\n",
       "      <td>इन्हीं वेदों का अंतिम भाग उपनिषद कहलाता है।</td>\n",
       "      <td>9</td>\n",
       "      <td>8</td>\n",
       "    </tr>\n",
       "    <tr>\n",
       "      <th>...</th>\n",
       "      <td>...</td>\n",
       "      <td>...</td>\n",
       "      <td>...</td>\n",
       "      <td>...</td>\n",
       "      <td>...</td>\n",
       "    </tr>\n",
       "    <tr>\n",
       "      <th>127602</th>\n",
       "      <td>indic2012</td>\n",
       "      <td>Examples of art deco construction can be found...</td>\n",
       "      <td>आर्ट डेको शैली के निर्माण मैरीन ड्राइव और ओवल ...</td>\n",
       "      <td>15</td>\n",
       "      <td>15</td>\n",
       "    </tr>\n",
       "    <tr>\n",
       "      <th>127603</th>\n",
       "      <td>ted</td>\n",
       "      <td>and put it in our cheeks.</td>\n",
       "      <td>और अपने गालों में डाल लेते हैं।</td>\n",
       "      <td>6</td>\n",
       "      <td>7</td>\n",
       "    </tr>\n",
       "    <tr>\n",
       "      <th>127604</th>\n",
       "      <td>tides</td>\n",
       "      <td>As for the other derivatives of sulphur , the ...</td>\n",
       "      <td>जहां तक गंधक के अन्य उत्पादों का प्रश्न है , द...</td>\n",
       "      <td>36</td>\n",
       "      <td>34</td>\n",
       "    </tr>\n",
       "    <tr>\n",
       "      <th>127605</th>\n",
       "      <td>tides</td>\n",
       "      <td>its complicated functioning is defined thus in...</td>\n",
       "      <td>Zरचना-प्रकिया को उसने एक पहेली में यों बांधा है .</td>\n",
       "      <td>11</td>\n",
       "      <td>10</td>\n",
       "    </tr>\n",
       "    <tr>\n",
       "      <th>127606</th>\n",
       "      <td>ted</td>\n",
       "      <td>They've just won four government contracts to ...</td>\n",
       "      <td>हाल ही में उन्हें सरकारी ठेका मिला है करीब सौ ...</td>\n",
       "      <td>12</td>\n",
       "      <td>14</td>\n",
       "    </tr>\n",
       "  </tbody>\n",
       "</table>\n",
       "<p>127607 rows × 5 columns</p>\n",
       "</div>"
      ],
      "text/plain": [
       "           source                                   english_sentence                                     hindi_sentence  eng_len  hin_len\n",
       "0             ted  politicians do not have permission to do what ...  राजनीतिज्ञों के पास जो कार्य करना चाहिए, वह कर...       12       14\n",
       "1             ted         I'd like to tell you about one such child,  मई आपको ऐसे ही एक बच्चे के बारे में बताना चाहू...        9       11\n",
       "2       indic2012  This percentage is even greater than the perce...   यह प्रतिशत भारत में हिन्दुओं प्रतिशत से अधिक है।       10        9\n",
       "3             ted  what we really mean is that they're bad at not...     हम ये नहीं कहना चाहते कि वो ध्यान नहीं दे पाते       12       11\n",
       "4       indic2012  .The ending portion of these Vedas is called U...        इन्हीं वेदों का अंतिम भाग उपनिषद कहलाता है।        9        8\n",
       "...           ...                                                ...                                                ...      ...      ...\n",
       "127602  indic2012  Examples of art deco construction can be found...  आर्ट डेको शैली के निर्माण मैरीन ड्राइव और ओवल ...       15       15\n",
       "127603        ted                          and put it in our cheeks.                    और अपने गालों में डाल लेते हैं।        6        7\n",
       "127604      tides  As for the other derivatives of sulphur , the ...  जहां तक गंधक के अन्य उत्पादों का प्रश्न है , द...       36       34\n",
       "127605      tides  its complicated functioning is defined thus in...  Zरचना-प्रकिया को उसने एक पहेली में यों बांधा है .       11       10\n",
       "127606        ted  They've just won four government contracts to ...  हाल ही में उन्हें सरकारी ठेका मिला है करीब सौ ...       12       14\n",
       "\n",
       "[127607 rows x 5 columns]"
      ]
     },
     "execution_count": 9,
     "metadata": {},
     "output_type": "execute_result"
    }
   ],
   "source": [
    "df"
   ]
  },
  {
   "cell_type": "code",
   "execution_count": 10,
   "id": "39619757",
   "metadata": {
    "execution": {
     "iopub.execute_input": "2024-02-07T02:43:17.221478Z",
     "iopub.status.busy": "2024-02-07T02:43:17.220814Z",
     "iopub.status.idle": "2024-02-07T02:43:17.270077Z",
     "shell.execute_reply": "2024-02-07T02:43:17.268617Z"
    },
    "papermill": {
     "duration": 0.07293,
     "end_time": "2024-02-07T02:43:17.273549",
     "exception": false,
     "start_time": "2024-02-07T02:43:17.200619",
     "status": "completed"
    },
    "tags": []
   },
   "outputs": [
    {
     "data": {
      "text/plain": [
       "(418, 398)"
      ]
     },
     "execution_count": 10,
     "metadata": {},
     "output_type": "execute_result"
    }
   ],
   "source": [
    "max(df[\"hin_len\"]), max(df[\"eng_len\"])"
   ]
  },
  {
   "cell_type": "code",
   "execution_count": 11,
   "id": "6a270b20",
   "metadata": {
    "execution": {
     "iopub.execute_input": "2024-02-07T02:43:17.311595Z",
     "iopub.status.busy": "2024-02-07T02:43:17.310707Z",
     "iopub.status.idle": "2024-02-07T02:43:17.318419Z",
     "shell.execute_reply": "2024-02-07T02:43:17.317209Z"
    },
    "papermill": {
     "duration": 0.029939,
     "end_time": "2024-02-07T02:43:17.321252",
     "exception": false,
     "start_time": "2024-02-07T02:43:17.291313",
     "status": "completed"
    },
    "tags": []
   },
   "outputs": [],
   "source": [
    "# Since both the columns could contain hindi or english sentences\n",
    "\n",
    "def check_english(text):\n",
    "    list1 = text.split(\" \")\n",
    "    l=\"abcdefghijklmnopqrstuvwxyz0987654321ABCDEFGHIJKLMNOPQRSTUVWXYZ\"\n",
    "    l2=[char for char in l]\n",
    "    l2 = set(l2)\n",
    "    # Make sure the sentence is in English by checking if any letter from the sentence contains english language\n",
    "    for char in list1:\n",
    "        for alp in char:\n",
    "            if alp in l2:\n",
    "                return True\n",
    "    return False"
   ]
  },
  {
   "cell_type": "code",
   "execution_count": 12,
   "id": "914eddce",
   "metadata": {
    "execution": {
     "iopub.execute_input": "2024-02-07T02:43:17.359088Z",
     "iopub.status.busy": "2024-02-07T02:43:17.358131Z",
     "iopub.status.idle": "2024-02-07T02:43:17.364783Z",
     "shell.execute_reply": "2024-02-07T02:43:17.363736Z"
    },
    "papermill": {
     "duration": 0.02938,
     "end_time": "2024-02-07T02:43:17.367283",
     "exception": false,
     "start_time": "2024-02-07T02:43:17.337903",
     "status": "completed"
    },
    "tags": []
   },
   "outputs": [],
   "source": [
    "def check_hindi(text):\n",
    "    list1 = text.split(\" \")\n",
    "#     l=\"abcdefghijklmnopqrstuvwxyzABCDEFGHIJKLMNOPQRSTUVWXYZ\"\n",
    "    l=\"abcdefghijklmnopqrstuvwxyz0987654321ABCDEFGHIJKLMNOPQRSTUVWXYZ\"\n",
    "    l2=[char for char in l]\n",
    "    l2 = set(l2)\n",
    "    # Make sure the sentence is in Hindi by checking if any letter from the \n",
    "    # sentence contains english language and marking the sentence as False\n",
    "    for char in list1:\n",
    "        for alp in char:\n",
    "            if alp in l2:\n",
    "                return False\n",
    "    return True"
   ]
  },
  {
   "cell_type": "code",
   "execution_count": 13,
   "id": "51b722d0",
   "metadata": {
    "execution": {
     "iopub.execute_input": "2024-02-07T02:43:17.403683Z",
     "iopub.status.busy": "2024-02-07T02:43:17.402433Z",
     "iopub.status.idle": "2024-02-07T02:43:20.504789Z",
     "shell.execute_reply": "2024-02-07T02:43:20.503381Z"
    },
    "papermill": {
     "duration": 3.124992,
     "end_time": "2024-02-07T02:43:20.508797",
     "exception": false,
     "start_time": "2024-02-07T02:43:17.383805",
     "status": "completed"
    },
    "tags": []
   },
   "outputs": [],
   "source": [
    "df[\"eng_check\"] = df[\"english_sentence\"].apply(check_english)\n",
    "df[\"hi_check\"] = df[\"hindi_sentence\"].apply(check_hindi)\n",
    "df = df[df[\"eng_check\"] == True]\n",
    "df = df[df[\"hi_check\"] == True]"
   ]
  },
  {
   "cell_type": "code",
   "execution_count": 14,
   "id": "869221ec",
   "metadata": {
    "execution": {
     "iopub.execute_input": "2024-02-07T02:43:20.551712Z",
     "iopub.status.busy": "2024-02-07T02:43:20.551285Z",
     "iopub.status.idle": "2024-02-07T02:43:20.557827Z",
     "shell.execute_reply": "2024-02-07T02:43:20.556849Z"
    },
    "papermill": {
     "duration": 0.029716,
     "end_time": "2024-02-07T02:43:20.560885",
     "exception": false,
     "start_time": "2024-02-07T02:43:20.531169",
     "status": "completed"
    },
    "tags": []
   },
   "outputs": [],
   "source": [
    "d1=df[df[\"eng_check\"]==False]\n",
    "# df[df[\"eng_check\"]==False].shape"
   ]
  },
  {
   "cell_type": "code",
   "execution_count": 15,
   "id": "b86bbd4b",
   "metadata": {
    "execution": {
     "iopub.execute_input": "2024-02-07T02:43:20.602818Z",
     "iopub.status.busy": "2024-02-07T02:43:20.602432Z",
     "iopub.status.idle": "2024-02-07T02:43:20.619194Z",
     "shell.execute_reply": "2024-02-07T02:43:20.618269Z"
    },
    "papermill": {
     "duration": 0.039715,
     "end_time": "2024-02-07T02:43:20.623143",
     "exception": false,
     "start_time": "2024-02-07T02:43:20.583428",
     "status": "completed"
    },
    "tags": []
   },
   "outputs": [
    {
     "data": {
      "text/html": [
       "<div>\n",
       "<style scoped>\n",
       "    .dataframe tbody tr th:only-of-type {\n",
       "        vertical-align: middle;\n",
       "    }\n",
       "\n",
       "    .dataframe tbody tr th {\n",
       "        vertical-align: top;\n",
       "    }\n",
       "\n",
       "    .dataframe thead th {\n",
       "        text-align: right;\n",
       "    }\n",
       "</style>\n",
       "<table border=\"1\" class=\"dataframe\">\n",
       "  <thead>\n",
       "    <tr style=\"text-align: right;\">\n",
       "      <th></th>\n",
       "      <th>source</th>\n",
       "      <th>english_sentence</th>\n",
       "      <th>hindi_sentence</th>\n",
       "      <th>eng_len</th>\n",
       "      <th>hin_len</th>\n",
       "      <th>eng_check</th>\n",
       "      <th>hi_check</th>\n",
       "    </tr>\n",
       "  </thead>\n",
       "  <tbody>\n",
       "  </tbody>\n",
       "</table>\n",
       "</div>"
      ],
      "text/plain": [
       "Empty DataFrame\n",
       "Columns: [source, english_sentence, hindi_sentence, eng_len, hin_len, eng_check, hi_check]\n",
       "Index: []"
      ]
     },
     "execution_count": 15,
     "metadata": {},
     "output_type": "execute_result"
    }
   ],
   "source": [
    "d1"
   ]
  },
  {
   "cell_type": "code",
   "execution_count": 16,
   "id": "ac2d8f98",
   "metadata": {
    "execution": {
     "iopub.execute_input": "2024-02-07T02:43:20.668714Z",
     "iopub.status.busy": "2024-02-07T02:43:20.667393Z",
     "iopub.status.idle": "2024-02-07T02:43:20.673179Z",
     "shell.execute_reply": "2024-02-07T02:43:20.672060Z"
    },
    "papermill": {
     "duration": 0.029327,
     "end_time": "2024-02-07T02:43:20.675889",
     "exception": false,
     "start_time": "2024-02-07T02:43:20.646562",
     "status": "completed"
    },
    "tags": []
   },
   "outputs": [],
   "source": [
    "text=\"फिर मैंने उसे Roald Dahl की “James and the Giant Peach”\""
   ]
  },
  {
   "cell_type": "code",
   "execution_count": 17,
   "id": "b701ff09",
   "metadata": {
    "execution": {
     "iopub.execute_input": "2024-02-07T02:43:20.715401Z",
     "iopub.status.busy": "2024-02-07T02:43:20.714019Z",
     "iopub.status.idle": "2024-02-07T02:43:20.738560Z",
     "shell.execute_reply": "2024-02-07T02:43:20.737729Z"
    },
    "papermill": {
     "duration": 0.047595,
     "end_time": "2024-02-07T02:43:20.741899",
     "exception": false,
     "start_time": "2024-02-07T02:43:20.694304",
     "status": "completed"
    },
    "tags": []
   },
   "outputs": [
    {
     "name": "stdout",
     "output_type": "stream",
     "text": [
      "Size of dataset to use: (78801, 7)\n"
     ]
    }
   ],
   "source": [
    "df = df[(df['eng_len'] <= MAX_FILTER_LEN) & (df['hin_len'] <= MAX_FILTER_LEN)]\n",
    "print(f\"Size of dataset to use: {df.shape}\")"
   ]
  },
  {
   "cell_type": "code",
   "execution_count": 18,
   "id": "cb372462",
   "metadata": {
    "execution": {
     "iopub.execute_input": "2024-02-07T02:43:20.788324Z",
     "iopub.status.busy": "2024-02-07T02:43:20.787223Z",
     "iopub.status.idle": "2024-02-07T02:43:22.432648Z",
     "shell.execute_reply": "2024-02-07T02:43:22.431724Z"
    },
    "papermill": {
     "duration": 1.667611,
     "end_time": "2024-02-07T02:43:22.435225",
     "exception": false,
     "start_time": "2024-02-07T02:43:20.767614",
     "status": "completed"
    },
    "tags": []
   },
   "outputs": [],
   "source": [
    "filters = '!\"#$%&()*+,-./:;=?@[\\\\]^_`{|}~\\t\\n' + '।'\n",
    "df['english_sentence']=df['english_sentence'].apply(lambda x: ''.join(ch for ch in x if ch not in filters))\n",
    "df['hindi_sentence']=df['hindi_sentence'].apply(lambda x: ''.join(ch for ch in x if ch not in filters))"
   ]
  },
  {
   "cell_type": "code",
   "execution_count": 19,
   "id": "9ef3e831",
   "metadata": {
    "execution": {
     "iopub.execute_input": "2024-02-07T02:43:22.473254Z",
     "iopub.status.busy": "2024-02-07T02:43:22.472596Z",
     "iopub.status.idle": "2024-02-07T02:43:22.477006Z",
     "shell.execute_reply": "2024-02-07T02:43:22.475826Z"
    },
    "papermill": {
     "duration": 0.027909,
     "end_time": "2024-02-07T02:43:22.480303",
     "exception": false,
     "start_time": "2024-02-07T02:43:22.452394",
     "status": "completed"
    },
    "tags": []
   },
   "outputs": [],
   "source": [
    "# df['english_sentence'] = df['english_sentence'].apply(lambda x: \"[start] \" + x + \" [end]\")\n",
    "# df['hindi_sentence'] = df['hindi_sentence'].apply(lambda x: \"[start] \" + x + \" [end]\")\n",
    "# df.head()"
   ]
  },
  {
   "cell_type": "code",
   "execution_count": 20,
   "id": "1ba70fcd",
   "metadata": {
    "execution": {
     "iopub.execute_input": "2024-02-07T02:43:22.588951Z",
     "iopub.status.busy": "2024-02-07T02:43:22.588474Z",
     "iopub.status.idle": "2024-02-07T02:43:22.596654Z",
     "shell.execute_reply": "2024-02-07T02:43:22.595317Z"
    },
    "papermill": {
     "duration": 0.030327,
     "end_time": "2024-02-07T02:43:22.599444",
     "exception": false,
     "start_time": "2024-02-07T02:43:22.569117",
     "status": "completed"
    },
    "tags": []
   },
   "outputs": [],
   "source": [
    "def normalize(line, is_english = True):\n",
    "    if is_english:\n",
    "        line = str(line.strip().lower())\n",
    "    else:\n",
    "        line = str(line.strip())\n",
    "\n",
    "    line = re.sub(r\"^([^ \\w])(?!\\s)\", r\"\\1 \", line)\n",
    "    line = re.sub(r\"(\\s[^ \\w])(?!\\s)\", r\"\\1 \", line)\n",
    "    line = re.sub(r\"(?!\\s)([^ \\w])$\", r\" \\1\", line)\n",
    "    line = re.sub(r\"(?!\\s)([^ \\w]\\s)\", r\" \\1\", line)\n",
    "    return line\n"
   ]
  },
  {
   "cell_type": "code",
   "execution_count": 21,
   "id": "1d3a9a8e",
   "metadata": {
    "execution": {
     "iopub.execute_input": "2024-02-07T02:43:22.637240Z",
     "iopub.status.busy": "2024-02-07T02:43:22.636365Z",
     "iopub.status.idle": "2024-02-07T02:43:22.644211Z",
     "shell.execute_reply": "2024-02-07T02:43:22.643152Z"
    },
    "papermill": {
     "duration": 0.029938,
     "end_time": "2024-02-07T02:43:22.646885",
     "exception": false,
     "start_time": "2024-02-07T02:43:22.616947",
     "status": "completed"
    },
    "tags": []
   },
   "outputs": [],
   "source": [
    "def train_validate_test_split(df, train_percent=.8, validate_percent=.1, seed=200):\n",
    "    df = df.sample(frac=1.,random_state=seed)\n",
    "    m = len(df.index)\n",
    "    train_end = int(train_percent * m)\n",
    "    validate_end = int(validate_percent * m) + train_end\n",
    "    train = df.iloc[:train_end, :]\n",
    "    validate = df.iloc[train_end:validate_end, :]\n",
    "    test = df.iloc[validate_end:, :]\n",
    "    return train, validate, test"
   ]
  },
  {
   "cell_type": "code",
   "execution_count": 22,
   "id": "dc81c26c",
   "metadata": {
    "execution": {
     "iopub.execute_input": "2024-02-07T02:43:22.683712Z",
     "iopub.status.busy": "2024-02-07T02:43:22.683266Z",
     "iopub.status.idle": "2024-02-07T02:43:22.717772Z",
     "shell.execute_reply": "2024-02-07T02:43:22.716490Z"
    },
    "papermill": {
     "duration": 0.056986,
     "end_time": "2024-02-07T02:43:22.721334",
     "exception": false,
     "start_time": "2024-02-07T02:43:22.664348",
     "status": "completed"
    },
    "tags": []
   },
   "outputs": [
    {
     "name": "stdout",
     "output_type": "stream",
     "text": [
      "train dataset shape : (63040, 7)\n",
      "val dataset shape : (11820, 7)\n",
      "test dataset shape : (3941, 7)\n"
     ]
    }
   ],
   "source": [
    "train_df, val_df, test_df = train_validate_test_split(\n",
    "                                        df, \n",
    "                                        train_percent=.8, \n",
    "                                        validate_percent=.15, \n",
    "                                        seed=7)\n",
    "print(f\"train dataset shape : {train_df.shape}\")\n",
    "print(f\"val dataset shape : {val_df.shape}\")\n",
    "print(f\"test dataset shape : {test_df.shape}\")"
   ]
  },
  {
   "cell_type": "code",
   "execution_count": 23,
   "id": "9c476401",
   "metadata": {
    "execution": {
     "iopub.execute_input": "2024-02-07T02:43:22.758864Z",
     "iopub.status.busy": "2024-02-07T02:43:22.758438Z",
     "iopub.status.idle": "2024-02-07T02:43:22.775194Z",
     "shell.execute_reply": "2024-02-07T02:43:22.774201Z"
    },
    "papermill": {
     "duration": 0.038479,
     "end_time": "2024-02-07T02:43:22.777603",
     "exception": false,
     "start_time": "2024-02-07T02:43:22.739124",
     "status": "completed"
    },
    "tags": []
   },
   "outputs": [
    {
     "data": {
      "text/html": [
       "<div>\n",
       "<style scoped>\n",
       "    .dataframe tbody tr th:only-of-type {\n",
       "        vertical-align: middle;\n",
       "    }\n",
       "\n",
       "    .dataframe tbody tr th {\n",
       "        vertical-align: top;\n",
       "    }\n",
       "\n",
       "    .dataframe thead th {\n",
       "        text-align: right;\n",
       "    }\n",
       "</style>\n",
       "<table border=\"1\" class=\"dataframe\">\n",
       "  <thead>\n",
       "    <tr style=\"text-align: right;\">\n",
       "      <th></th>\n",
       "      <th>source</th>\n",
       "      <th>english_sentence</th>\n",
       "      <th>hindi_sentence</th>\n",
       "      <th>eng_len</th>\n",
       "      <th>hin_len</th>\n",
       "      <th>eng_check</th>\n",
       "      <th>hi_check</th>\n",
       "    </tr>\n",
       "  </thead>\n",
       "  <tbody>\n",
       "    <tr>\n",
       "      <th>33984</th>\n",
       "      <td>tides</td>\n",
       "      <td>Paying council tax</td>\n",
       "      <td>आप कौंसिल कर भर रहे है</td>\n",
       "      <td>4</td>\n",
       "      <td>7</td>\n",
       "      <td>True</td>\n",
       "      <td>True</td>\n",
       "    </tr>\n",
       "    <tr>\n",
       "      <th>83709</th>\n",
       "      <td>tides</td>\n",
       "      <td>They make the fires in sixteen different spots...</td>\n",
       "      <td>वे सोलह भिन्न स्थानों पर और चार भिन्न समूहों म...</td>\n",
       "      <td>14</td>\n",
       "      <td>14</td>\n",
       "      <td>True</td>\n",
       "      <td>True</td>\n",
       "    </tr>\n",
       "    <tr>\n",
       "      <th>99260</th>\n",
       "      <td>tides</td>\n",
       "      <td>Two days later  he spoke for the last time to ...</td>\n",
       "      <td>दो दिन बाद इंडियन लीजन से उन्होंने आखिरी बार म...</td>\n",
       "      <td>15</td>\n",
       "      <td>12</td>\n",
       "      <td>True</td>\n",
       "      <td>True</td>\n",
       "    </tr>\n",
       "    <tr>\n",
       "      <th>18790</th>\n",
       "      <td>ted</td>\n",
       "      <td>And now with one dollar</td>\n",
       "      <td>और अब आप एक डॉलर में</td>\n",
       "      <td>5</td>\n",
       "      <td>6</td>\n",
       "      <td>True</td>\n",
       "      <td>True</td>\n",
       "    </tr>\n",
       "    <tr>\n",
       "      <th>20337</th>\n",
       "      <td>ted</td>\n",
       "      <td>And I'm going to play it all the way through</td>\n",
       "      <td>और अब मैं इसे बिना रुके लगातार बजाऊँगा</td>\n",
       "      <td>10</td>\n",
       "      <td>8</td>\n",
       "      <td>True</td>\n",
       "      <td>True</td>\n",
       "    </tr>\n",
       "    <tr>\n",
       "      <th>...</th>\n",
       "      <td>...</td>\n",
       "      <td>...</td>\n",
       "      <td>...</td>\n",
       "      <td>...</td>\n",
       "      <td>...</td>\n",
       "      <td>...</td>\n",
       "      <td>...</td>\n",
       "    </tr>\n",
       "    <tr>\n",
       "      <th>118265</th>\n",
       "      <td>indic2012</td>\n",
       "      <td>She was the leader of many national movements ...</td>\n",
       "      <td>उन्होंने अनेक राष्ट्रीय आंदोलनों का नेतृत्व कि...</td>\n",
       "      <td>13</td>\n",
       "      <td>11</td>\n",
       "      <td>True</td>\n",
       "      <td>True</td>\n",
       "    </tr>\n",
       "    <tr>\n",
       "      <th>69778</th>\n",
       "      <td>tides</td>\n",
       "      <td>These shapes indicate regional developments an...</td>\n",
       "      <td>ये आकार क्षेत्रीय विकास और कालानुक्रमिक विकास ...</td>\n",
       "      <td>10</td>\n",
       "      <td>13</td>\n",
       "      <td>True</td>\n",
       "      <td>True</td>\n",
       "    </tr>\n",
       "    <tr>\n",
       "      <th>90209</th>\n",
       "      <td>indic2012</td>\n",
       "      <td>God must love so deeply of the same to happen ...</td>\n",
       "      <td>इतना गहरा प्रेम करो कि वही तुम्हारे लिए परमात्...</td>\n",
       "      <td>12</td>\n",
       "      <td>11</td>\n",
       "      <td>True</td>\n",
       "      <td>True</td>\n",
       "    </tr>\n",
       "    <tr>\n",
       "      <th>84675</th>\n",
       "      <td>tides</td>\n",
       "      <td>Is this true</td>\n",
       "      <td>क्या यह सच है</td>\n",
       "      <td>4</td>\n",
       "      <td>5</td>\n",
       "      <td>True</td>\n",
       "      <td>True</td>\n",
       "    </tr>\n",
       "    <tr>\n",
       "      <th>43879</th>\n",
       "      <td>tides</td>\n",
       "      <td>This spirit appears to be lacking in our crick...</td>\n",
       "      <td>आज हमारे क्रिकेट खिलाडियों में इस भावना की कमी...</td>\n",
       "      <td>11</td>\n",
       "      <td>14</td>\n",
       "      <td>True</td>\n",
       "      <td>True</td>\n",
       "    </tr>\n",
       "  </tbody>\n",
       "</table>\n",
       "<p>63040 rows × 7 columns</p>\n",
       "</div>"
      ],
      "text/plain": [
       "           source                                   english_sentence                                     hindi_sentence  eng_len  hin_len  eng_check  hi_check\n",
       "33984       tides                                Paying council tax                             आप कौंसिल कर भर रहे है         4        7       True      True\n",
       "83709       tides  They make the fires in sixteen different spots...  वे सोलह भिन्न स्थानों पर और चार भिन्न समूहों म...       14       14       True      True\n",
       "99260       tides  Two days later  he spoke for the last time to ...  दो दिन बाद इंडियन लीजन से उन्होंने आखिरी बार म...       15       12       True      True\n",
       "18790         ted                            And now with one dollar                               और अब आप एक डॉलर में        5        6       True      True\n",
       "20337         ted       And I'm going to play it all the way through             और अब मैं इसे बिना रुके लगातार बजाऊँगा       10        8       True      True\n",
       "...           ...                                                ...                                                ...      ...      ...        ...       ...\n",
       "118265  indic2012  She was the leader of many national movements ...  उन्होंने अनेक राष्ट्रीय आंदोलनों का नेतृत्व कि...       13       11       True      True\n",
       "69778       tides  These shapes indicate regional developments an...  ये आकार क्षेत्रीय विकास और कालानुक्रमिक विकास ...       10       13       True      True\n",
       "90209   indic2012  God must love so deeply of the same to happen ...  इतना गहरा प्रेम करो कि वही तुम्हारे लिए परमात्...       12       11       True      True\n",
       "84675       tides                                      Is this true                                      क्या यह सच है         4        5       True      True\n",
       "43879       tides  This spirit appears to be lacking in our crick...  आज हमारे क्रिकेट खिलाडियों में इस भावना की कमी...       11       14       True      True\n",
       "\n",
       "[63040 rows x 7 columns]"
      ]
     },
     "execution_count": 23,
     "metadata": {},
     "output_type": "execute_result"
    }
   ],
   "source": [
    "train_df"
   ]
  },
  {
   "cell_type": "code",
   "execution_count": 24,
   "id": "c2d872d0",
   "metadata": {
    "execution": {
     "iopub.execute_input": "2024-02-07T02:43:22.817303Z",
     "iopub.status.busy": "2024-02-07T02:43:22.816866Z",
     "iopub.status.idle": "2024-02-07T02:43:22.824294Z",
     "shell.execute_reply": "2024-02-07T02:43:22.823047Z"
    },
    "papermill": {
     "duration": 0.03087,
     "end_time": "2024-02-07T02:43:22.826810",
     "exception": false,
     "start_time": "2024-02-07T02:43:22.795940",
     "status": "completed"
    },
    "tags": []
   },
   "outputs": [],
   "source": [
    "def create_iterable(sample_df, lang1, lang2):\n",
    "    \"\"\"\n",
    "    This converts pandas dataframe into list of tuples\n",
    "    consisting of (german sentences, english sentences).\n",
    "    \n",
    "    This iterable in used in our data preparation\n",
    "    \"\"\"\n",
    "    sample_iter = sample_df.to_dict(orient='records')\n",
    "    out_iter = [(dict1[lang1], dict1[lang2]) for dict1 in sample_iter]\n",
    "    print(f\"length of iterable: {len(out_iter)}\")\n",
    "    return out_iter"
   ]
  },
  {
   "cell_type": "code",
   "execution_count": 25,
   "id": "c34ff418",
   "metadata": {
    "execution": {
     "iopub.execute_input": "2024-02-07T02:43:22.866034Z",
     "iopub.status.busy": "2024-02-07T02:43:22.865436Z",
     "iopub.status.idle": "2024-02-07T02:43:22.876349Z",
     "shell.execute_reply": "2024-02-07T02:43:22.875117Z"
    },
    "papermill": {
     "duration": 0.033812,
     "end_time": "2024-02-07T02:43:22.879045",
     "exception": false,
     "start_time": "2024-02-07T02:43:22.845233",
     "status": "completed"
    },
    "tags": []
   },
   "outputs": [
    {
     "data": {
      "text/plain": [
       "33984                                   Paying council tax \n",
       "83709     They make the fires in sixteen different spots...\n",
       "99260     Two days later  he spoke for the last time to ...\n",
       "18790                               And now with one dollar\n",
       "20337          And I'm going to play it all the way through\n",
       "                                ...                        \n",
       "118265    She was the leader of many national movements ...\n",
       "69778     These shapes indicate regional developments an...\n",
       "90209     God must love so deeply of the same to happen ...\n",
       "84675                                         Is this true \n",
       "43879     This spirit appears to be lacking in our crick...\n",
       "Name: english_sentence, Length: 63040, dtype: object"
      ]
     },
     "execution_count": 25,
     "metadata": {},
     "output_type": "execute_result"
    }
   ],
   "source": [
    "train_df[\"english_sentence\"]"
   ]
  },
  {
   "cell_type": "code",
   "execution_count": 26,
   "id": "d4e6c691",
   "metadata": {
    "execution": {
     "iopub.execute_input": "2024-02-07T02:43:22.917610Z",
     "iopub.status.busy": "2024-02-07T02:43:22.916995Z",
     "iopub.status.idle": "2024-02-07T02:43:22.923217Z",
     "shell.execute_reply": "2024-02-07T02:43:22.921905Z"
    },
    "papermill": {
     "duration": 0.028607,
     "end_time": "2024-02-07T02:43:22.925746",
     "exception": false,
     "start_time": "2024-02-07T02:43:22.897139",
     "status": "completed"
    },
    "tags": []
   },
   "outputs": [],
   "source": [
    "from enum import Enum\n",
    "\n",
    "# class syntax\n",
    "class Translate_dir(Enum):\n",
    "    E2H = 1\n",
    "    H2E = 2\n"
   ]
  },
  {
   "cell_type": "code",
   "execution_count": 27,
   "id": "be06151d",
   "metadata": {
    "execution": {
     "iopub.execute_input": "2024-02-07T02:43:22.964896Z",
     "iopub.status.busy": "2024-02-07T02:43:22.963963Z",
     "iopub.status.idle": "2024-02-07T02:43:22.970429Z",
     "shell.execute_reply": "2024-02-07T02:43:22.969117Z"
    },
    "papermill": {
     "duration": 0.029069,
     "end_time": "2024-02-07T02:43:22.973395",
     "exception": false,
     "start_time": "2024-02-07T02:43:22.944326",
     "status": "completed"
    },
    "tags": []
   },
   "outputs": [],
   "source": [
    "direction = \"E2H\"\n",
    "lang1 = \"english_sentence\"\n",
    "lang2 = \"hindi_sentence\""
   ]
  },
  {
   "cell_type": "code",
   "execution_count": 28,
   "id": "6b9bf23e",
   "metadata": {
    "execution": {
     "iopub.execute_input": "2024-02-07T02:43:23.013745Z",
     "iopub.status.busy": "2024-02-07T02:43:23.013020Z",
     "iopub.status.idle": "2024-02-07T02:43:23.022186Z",
     "shell.execute_reply": "2024-02-07T02:43:23.020697Z"
    },
    "papermill": {
     "duration": 0.032893,
     "end_time": "2024-02-07T02:43:23.025926",
     "exception": false,
     "start_time": "2024-02-07T02:43:22.993033",
     "status": "completed"
    },
    "tags": []
   },
   "outputs": [
    {
     "data": {
      "text/plain": [
       "('english_sentence', 'hindi_sentence')"
      ]
     },
     "execution_count": 28,
     "metadata": {},
     "output_type": "execute_result"
    }
   ],
   "source": [
    "lang1, lang2"
   ]
  },
  {
   "cell_type": "code",
   "execution_count": 29,
   "id": "87e7ae83",
   "metadata": {
    "execution": {
     "iopub.execute_input": "2024-02-07T02:43:23.064393Z",
     "iopub.status.busy": "2024-02-07T02:43:23.063535Z",
     "iopub.status.idle": "2024-02-07T02:43:23.648154Z",
     "shell.execute_reply": "2024-02-07T02:43:23.646716Z"
    },
    "papermill": {
     "duration": 0.606933,
     "end_time": "2024-02-07T02:43:23.651072",
     "exception": false,
     "start_time": "2024-02-07T02:43:23.044139",
     "status": "completed"
    },
    "tags": []
   },
   "outputs": [
    {
     "name": "stdout",
     "output_type": "stream",
     "text": [
      "length of iterable: 63040\n",
      "length of iterable: 11820\n",
      "length of iterable: 3941\n"
     ]
    }
   ],
   "source": [
    "train_iter = create_iterable(train_df, lang1, lang2)\n",
    "val_iter = create_iterable(val_df, lang1, lang2)\n",
    "test_iter = create_iterable(test_df, lang1, lang2)"
   ]
  },
  {
   "cell_type": "code",
   "execution_count": 30,
   "id": "fbadce18",
   "metadata": {
    "execution": {
     "iopub.execute_input": "2024-02-07T02:43:23.692233Z",
     "iopub.status.busy": "2024-02-07T02:43:23.691682Z",
     "iopub.status.idle": "2024-02-07T02:43:23.700683Z",
     "shell.execute_reply": "2024-02-07T02:43:23.699156Z"
    },
    "papermill": {
     "duration": 0.032398,
     "end_time": "2024-02-07T02:43:23.703858",
     "exception": false,
     "start_time": "2024-02-07T02:43:23.671460",
     "status": "completed"
    },
    "tags": []
   },
   "outputs": [
    {
     "data": {
      "text/plain": [
       "'Paying council tax '"
      ]
     },
     "execution_count": 30,
     "metadata": {},
     "output_type": "execute_result"
    }
   ],
   "source": [
    "train_iter[0][0]"
   ]
  },
  {
   "cell_type": "code",
   "execution_count": 31,
   "id": "169d9961",
   "metadata": {
    "execution": {
     "iopub.execute_input": "2024-02-07T02:43:23.742995Z",
     "iopub.status.busy": "2024-02-07T02:43:23.742544Z",
     "iopub.status.idle": "2024-02-07T02:43:23.751232Z",
     "shell.execute_reply": "2024-02-07T02:43:23.749884Z"
    },
    "papermill": {
     "duration": 0.031099,
     "end_time": "2024-02-07T02:43:23.754059",
     "exception": false,
     "start_time": "2024-02-07T02:43:23.722960",
     "status": "completed"
    },
    "tags": []
   },
   "outputs": [
    {
     "data": {
      "text/plain": [
       "'This for example is my tumble dryer'"
      ]
     },
     "execution_count": 31,
     "metadata": {},
     "output_type": "execute_result"
    }
   ],
   "source": [
    "val_iter[0][0]"
   ]
  },
  {
   "cell_type": "code",
   "execution_count": 32,
   "id": "9f503844",
   "metadata": {
    "execution": {
     "iopub.execute_input": "2024-02-07T02:43:23.801590Z",
     "iopub.status.busy": "2024-02-07T02:43:23.801194Z",
     "iopub.status.idle": "2024-02-07T02:43:23.809333Z",
     "shell.execute_reply": "2024-02-07T02:43:23.807676Z"
    },
    "papermill": {
     "duration": 0.031442,
     "end_time": "2024-02-07T02:43:23.812239",
     "exception": false,
     "start_time": "2024-02-07T02:43:23.780797",
     "status": "completed"
    },
    "tags": []
   },
   "outputs": [
    {
     "data": {
      "text/plain": [
       "'Journalists encounter scuffles among artistes  with each wanting to be interviewed '"
      ]
     },
     "execution_count": 32,
     "metadata": {},
     "output_type": "execute_result"
    }
   ],
   "source": [
    "test_iter[0][0]"
   ]
  },
  {
   "cell_type": "code",
   "execution_count": 33,
   "id": "ca2acba1",
   "metadata": {
    "execution": {
     "iopub.execute_input": "2024-02-07T02:43:23.853781Z",
     "iopub.status.busy": "2024-02-07T02:43:23.853360Z",
     "iopub.status.idle": "2024-02-07T02:43:23.859352Z",
     "shell.execute_reply": "2024-02-07T02:43:23.857966Z"
    },
    "papermill": {
     "duration": 0.030756,
     "end_time": "2024-02-07T02:43:23.862954",
     "exception": false,
     "start_time": "2024-02-07T02:43:23.832198",
     "status": "completed"
    },
    "tags": []
   },
   "outputs": [
    {
     "name": "stdout",
     "output_type": "stream",
     "text": [
      "Paying council tax \n"
     ]
    }
   ],
   "source": [
    "for from_tuple in train_iter:\n",
    "    print(from_tuple[0])\n",
    "    break"
   ]
  },
  {
   "cell_type": "markdown",
   "id": "601add7a",
   "metadata": {
    "papermill": {
     "duration": 0.019934,
     "end_time": "2024-02-07T02:43:23.903114",
     "exception": false,
     "start_time": "2024-02-07T02:43:23.883180",
     "status": "completed"
    },
    "tags": []
   },
   "source": [
    "# Build Vocabulary"
   ]
  },
  {
   "cell_type": "code",
   "execution_count": 34,
   "id": "72640ef6",
   "metadata": {
    "execution": {
     "iopub.execute_input": "2024-02-07T02:43:23.942701Z",
     "iopub.status.busy": "2024-02-07T02:43:23.942291Z",
     "iopub.status.idle": "2024-02-07T02:43:27.530237Z",
     "shell.execute_reply": "2024-02-07T02:43:27.529216Z"
    },
    "papermill": {
     "duration": 3.610787,
     "end_time": "2024-02-07T02:43:27.533111",
     "exception": false,
     "start_time": "2024-02-07T02:43:23.922324",
     "status": "completed"
    },
    "tags": []
   },
   "outputs": [],
   "source": [
    "import spacy\n",
    "eng = spacy.load(\"en_core_web_sm\") # Load the English model to tokenize English text"
   ]
  },
  {
   "cell_type": "code",
   "execution_count": 35,
   "id": "05940ca9",
   "metadata": {
    "execution": {
     "iopub.execute_input": "2024-02-07T02:43:27.573540Z",
     "iopub.status.busy": "2024-02-07T02:43:27.572461Z",
     "iopub.status.idle": "2024-02-07T02:43:27.578291Z",
     "shell.execute_reply": "2024-02-07T02:43:27.577258Z"
    },
    "papermill": {
     "duration": 0.029394,
     "end_time": "2024-02-07T02:43:27.581019",
     "exception": false,
     "start_time": "2024-02-07T02:43:27.551625",
     "status": "completed"
    },
    "tags": []
   },
   "outputs": [],
   "source": [
    "def engTokenize(text):\n",
    "    \"\"\"\n",
    "    Tokenize an English text and return a list of tokens\n",
    "    \"\"\"\n",
    "    return [token.text for token in eng.tokenizer(text)]\n"
   ]
  },
  {
   "cell_type": "code",
   "execution_count": 36,
   "id": "7791d925",
   "metadata": {
    "execution": {
     "iopub.execute_input": "2024-02-07T02:43:27.621236Z",
     "iopub.status.busy": "2024-02-07T02:43:27.620393Z",
     "iopub.status.idle": "2024-02-07T02:43:27.627333Z",
     "shell.execute_reply": "2024-02-07T02:43:27.626017Z"
    },
    "papermill": {
     "duration": 0.030757,
     "end_time": "2024-02-07T02:43:27.630783",
     "exception": false,
     "start_time": "2024-02-07T02:43:27.600026",
     "status": "completed"
    },
    "tags": []
   },
   "outputs": [],
   "source": [
    "def hiTokenize(text):\n",
    "    \"\"\"\n",
    "    Tokenize a Hindi text and return a list of tokens\n",
    "    \"\"\"\n",
    "    # Remove the fullstop from hindi sentences which is '।'\n",
    "    char = '।'\n",
    "    return [token for token in text.split() if token != char]\n"
   ]
  },
  {
   "cell_type": "code",
   "execution_count": 37,
   "id": "a267c249",
   "metadata": {
    "execution": {
     "iopub.execute_input": "2024-02-07T02:43:27.672664Z",
     "iopub.status.busy": "2024-02-07T02:43:27.671692Z",
     "iopub.status.idle": "2024-02-07T02:43:27.679203Z",
     "shell.execute_reply": "2024-02-07T02:43:27.677472Z"
    },
    "papermill": {
     "duration": 0.031867,
     "end_time": "2024-02-07T02:43:27.682005",
     "exception": false,
     "start_time": "2024-02-07T02:43:27.650138",
     "status": "completed"
    },
    "tags": []
   },
   "outputs": [
    {
     "name": "stdout",
     "output_type": "stream",
     "text": [
      "['to', 'invoice', 'hospitals']\n"
     ]
    }
   ],
   "source": [
    "text = \"to invoice hospitals\"\n",
    "print(engTokenize(text))"
   ]
  },
  {
   "cell_type": "code",
   "execution_count": 38,
   "id": "3602301d",
   "metadata": {
    "execution": {
     "iopub.execute_input": "2024-02-07T02:43:27.723470Z",
     "iopub.status.busy": "2024-02-07T02:43:27.723097Z",
     "iopub.status.idle": "2024-02-07T02:43:27.729117Z",
     "shell.execute_reply": "2024-02-07T02:43:27.727697Z"
    },
    "papermill": {
     "duration": 0.030783,
     "end_time": "2024-02-07T02:43:27.732155",
     "exception": false,
     "start_time": "2024-02-07T02:43:27.701372",
     "status": "completed"
    },
    "tags": []
   },
   "outputs": [
    {
     "name": "stdout",
     "output_type": "stream",
     "text": [
      "['हॉस्पिटलों', 'को', 'बिल', 'कैसे', 'भेजें']\n"
     ]
    }
   ],
   "source": [
    "text = \"हॉस्पिटलों को बिल कैसे भेजें ।\"\n",
    "print(hiTokenize(text))"
   ]
  },
  {
   "cell_type": "code",
   "execution_count": 39,
   "id": "001d53ee",
   "metadata": {
    "execution": {
     "iopub.execute_input": "2024-02-07T02:43:27.773089Z",
     "iopub.status.busy": "2024-02-07T02:43:27.772696Z",
     "iopub.status.idle": "2024-02-07T02:43:27.778700Z",
     "shell.execute_reply": "2024-02-07T02:43:27.777280Z"
    },
    "papermill": {
     "duration": 0.02886,
     "end_time": "2024-02-07T02:43:27.781182",
     "exception": false,
     "start_time": "2024-02-07T02:43:27.752322",
     "status": "completed"
    },
    "tags": []
   },
   "outputs": [],
   "source": [
    "def yield_tokens(data_iter, tokenizer, index: int):\n",
    "    \"\"\"\n",
    "    Return the tokens for the appropriate language.\n",
    "\n",
    "    Args:\n",
    "        data_iter:    text here \n",
    "        tokenizer:    tokenizer for the language\n",
    "        index:        index of the language in the tuple \n",
    "\n",
    "    Yields:\n",
    "        sequences based on index       \n",
    "    \"\"\"\n",
    "    c=0 \n",
    "    for from_tuple in data_iter:\n",
    "#         if c<5:\n",
    "#             print(from_tuple[index])\n",
    "#             c +=1\n",
    "        yield tokenizer(from_tuple[index])"
   ]
  },
  {
   "cell_type": "code",
   "execution_count": 40,
   "id": "ab75fa80",
   "metadata": {
    "execution": {
     "iopub.execute_input": "2024-02-07T02:43:27.824594Z",
     "iopub.status.busy": "2024-02-07T02:43:27.824177Z",
     "iopub.status.idle": "2024-02-07T02:43:27.838540Z",
     "shell.execute_reply": "2024-02-07T02:43:27.836938Z"
    },
    "papermill": {
     "duration": 0.039924,
     "end_time": "2024-02-07T02:43:27.841314",
     "exception": false,
     "start_time": "2024-02-07T02:43:27.801390",
     "status": "completed"
    },
    "tags": []
   },
   "outputs": [],
   "source": [
    "def build_vocabulary(\n",
    "                    eng, \n",
    "                    train_iter, \n",
    "                    val_iter, \n",
    "                    test_iter, \n",
    "                    direction,\n",
    "                    min_freq: int = 2):\n",
    "    \"\"\"\n",
    "    Input Args:\n",
    "    eng : English Tokenizer\n",
    "    train_iter : Train dataset iterable \n",
    "    val_iter : Val dataset iterable\n",
    "    test_iter : Test dataset iterable\n",
    "    direction : for english to hindi translation = E2H and H2E for vice versa\n",
    "    \"\"\"\n",
    "  \n",
    "    def engTokenize(text):\n",
    "        \"\"\"\n",
    "        Tokenize an English text and return a list of tokens\n",
    "        \"\"\"\n",
    "        return [token.text for token in eng.tokenizer(text)]\n",
    "\n",
    "\n",
    "    def hiTokenize(text):\n",
    "        \"\"\"\n",
    "        Tokenize a Hindi text and return a list of tokens\n",
    "        \"\"\"\n",
    "        # Remove the fullstop from hindi sentences which is '।'\n",
    "        char = '।'\n",
    "        return [token for token in text.split() if token != char]\n",
    "\n",
    "\n",
    "    train = train_iter\n",
    "    val = val_iter\n",
    "    test = test_iter\n",
    "    \n",
    "    if direction == Translate_dir.E2H.name:\n",
    "        english_index = 0\n",
    "        hindi_index = 1\n",
    "    else:\n",
    "        hindi_index = 0\n",
    "        english_index = 1\n",
    "        \n",
    "    print(f\"english index : {english_index}\")\n",
    "    print(f\"hindi index : {hindi_index}\")\n",
    "\n",
    "    # generate source vocabulary\n",
    "    vocab_src = build_vocab_from_iterator(\n",
    "        yield_tokens(train + val + test, \n",
    "                     engTokenize, \n",
    "                     index=english_index), # tokens for each English sentence \n",
    "        min_freq=min_freq, \n",
    "        specials=[\"<bos>\", \"<eos>\", \"<pad>\", \"<unk>\"],\n",
    "    )\n",
    "\n",
    "    print(\"Building English Vocabulary...\")\n",
    "\n",
    "    # generate target vocabulary\n",
    "    vocab_trg = build_vocab_from_iterator(\n",
    "        yield_tokens(train + val + test, \n",
    "                     engTokenize, \n",
    "                     index=hindi_index), # tokens for each Hindi sentence \n",
    "        min_freq=2, # \n",
    "        specials=[\"<bos>\", \"<eos>\", \"<pad>\", \"<unk>\"],\n",
    "    )\n",
    "    print(\"Building Hindi Vocabulary...\")\n",
    "\n",
    "    # set default token for out-of-vocabulary words (OOV)\n",
    "    vocab_src.set_default_index(vocab_src[\"<unk>\"])\n",
    "    vocab_trg.set_default_index(vocab_trg[\"<unk>\"])\n",
    "\n",
    "    return vocab_src, vocab_trg"
   ]
  },
  {
   "cell_type": "code",
   "execution_count": 41,
   "id": "d478a979",
   "metadata": {
    "execution": {
     "iopub.execute_input": "2024-02-07T02:43:27.882527Z",
     "iopub.status.busy": "2024-02-07T02:43:27.882072Z",
     "iopub.status.idle": "2024-02-07T02:43:27.891690Z",
     "shell.execute_reply": "2024-02-07T02:43:27.890544Z"
    },
    "papermill": {
     "duration": 0.032505,
     "end_time": "2024-02-07T02:43:27.894226",
     "exception": false,
     "start_time": "2024-02-07T02:43:27.861721",
     "status": "completed"
    },
    "tags": []
   },
   "outputs": [],
   "source": [
    "def load_vocab(\n",
    "        eng, \n",
    "        train_iter, \n",
    "        val_iter, \n",
    "        test_iter, \n",
    "        direction,\n",
    "        min_freq: int = 2):\n",
    "    \"\"\"\n",
    "    Args:\n",
    "        eng:     English tokenizer\n",
    "        min_freq:     minimum frequency needed to include a word in the vocabulary\n",
    "        direction : for english to hindi translation = E2H and H2E for vice versa\n",
    "\n",
    "    Returns:\n",
    "        vocab_src:    Source vocabulary\n",
    "        vocab_trg:     Target vocabulary       \n",
    "    \"\"\"\n",
    "    if not os.path.exists(\"vocab.pt\"):\n",
    "        # build the Hindi/English vocabulary if it does not exist\n",
    "        vocab_src, vocab_trg = build_vocabulary(eng, \n",
    "                                                train_iter, \n",
    "                                                val_iter, \n",
    "                                                test_iter, \n",
    "                                                direction,\n",
    "                                                min_freq)\n",
    "        # save it to a file\n",
    "        torch.save((vocab_src, vocab_trg), \"vocab.pt\")\n",
    "    else:\n",
    "        # load the vocab if it exists\n",
    "        vocab_src, vocab_trg = torch.load(\"vocab.pt\")\n",
    "\n",
    "    print(\"Finished.\\nVocabulary sizes:\")\n",
    "    print(\"\\tSource:\", len(vocab_src))\n",
    "    print(\"\\tTarget:\", len(vocab_trg))\n",
    "    return vocab_src, vocab_trg"
   ]
  },
  {
   "cell_type": "code",
   "execution_count": 42,
   "id": "3715598f",
   "metadata": {
    "execution": {
     "iopub.execute_input": "2024-02-07T02:43:27.935844Z",
     "iopub.status.busy": "2024-02-07T02:43:27.934996Z",
     "iopub.status.idle": "2024-02-07T02:43:43.255999Z",
     "shell.execute_reply": "2024-02-07T02:43:43.254477Z"
    },
    "papermill": {
     "duration": 15.345328,
     "end_time": "2024-02-07T02:43:43.258677",
     "exception": false,
     "start_time": "2024-02-07T02:43:27.913349",
     "status": "completed"
    },
    "tags": []
   },
   "outputs": [
    {
     "name": "stdout",
     "output_type": "stream",
     "text": [
      "english index : 0\n",
      "hindi index : 1\n",
      "Building English Vocabulary...\n",
      "Building Hindi Vocabulary...\n",
      "Finished.\n",
      "Vocabulary sizes:\n",
      "\tSource: 21236\n",
      "\tTarget: 21256\n"
     ]
    }
   ],
   "source": [
    "vocab_src, vocab_trg = load_vocab(\n",
    "                                eng, \n",
    "                                train_iter, \n",
    "                                val_iter, \n",
    "                                test_iter, \n",
    "                                direction,)"
   ]
  },
  {
   "cell_type": "code",
   "execution_count": 43,
   "id": "6af84e83",
   "metadata": {
    "execution": {
     "iopub.execute_input": "2024-02-07T02:43:43.299757Z",
     "iopub.status.busy": "2024-02-07T02:43:43.299278Z",
     "iopub.status.idle": "2024-02-07T02:43:43.337385Z",
     "shell.execute_reply": "2024-02-07T02:43:43.336422Z"
    },
    "papermill": {
     "duration": 0.062417,
     "end_time": "2024-02-07T02:43:43.340234",
     "exception": false,
     "start_time": "2024-02-07T02:43:43.277817",
     "status": "completed"
    },
    "tags": []
   },
   "outputs": [],
   "source": [
    "# View target vocabulary\n",
    "trg_vocab_dict = vocab_trg.vocab.get_stoi()"
   ]
  },
  {
   "cell_type": "code",
   "execution_count": 44,
   "id": "e5d52416",
   "metadata": {
    "execution": {
     "iopub.execute_input": "2024-02-07T02:43:43.379963Z",
     "iopub.status.busy": "2024-02-07T02:43:43.379557Z",
     "iopub.status.idle": "2024-02-07T02:43:43.412135Z",
     "shell.execute_reply": "2024-02-07T02:43:43.410343Z"
    },
    "papermill": {
     "duration": 0.056018,
     "end_time": "2024-02-07T02:43:43.415156",
     "exception": false,
     "start_time": "2024-02-07T02:43:43.359138",
     "status": "completed"
    },
    "tags": []
   },
   "outputs": [],
   "source": [
    "# View source vocabulary in this case English\n",
    "src_vocab_dict = vocab_src.vocab.get_stoi()"
   ]
  },
  {
   "cell_type": "code",
   "execution_count": 45,
   "id": "318ef48b",
   "metadata": {
    "execution": {
     "iopub.execute_input": "2024-02-07T02:43:43.456793Z",
     "iopub.status.busy": "2024-02-07T02:43:43.456321Z",
     "iopub.status.idle": "2024-02-07T02:43:43.471028Z",
     "shell.execute_reply": "2024-02-07T02:43:43.469449Z"
    },
    "papermill": {
     "duration": 0.039276,
     "end_time": "2024-02-07T02:43:43.473611",
     "exception": false,
     "start_time": "2024-02-07T02:43:43.434335",
     "status": "completed"
    },
    "tags": []
   },
   "outputs": [
    {
     "name": "stdout",
     "output_type": "stream",
     "text": [
      "common keys are : ['<', '>', '<unk>', '”', '<bos>', '  ', '♫', '“', '‘', '<eos>', '<pad>', '   ', ' ', 'ऋ', \"'\"]\n"
     ]
    }
   ],
   "source": [
    "# Create dictionary where there are same keys in the source and target vocab dictionary\n",
    "S2D_dict = {}\n",
    "for k, v in src_vocab_dict.items():\n",
    "    if k in trg_vocab_dict:\n",
    "        S2D_dict[k] = [v, trg_vocab_dict[k]]\n",
    "        \n",
    "mixed_keys = list(S2D_dict.keys())\n",
    "print(f\"common keys are : {mixed_keys}\")"
   ]
  },
  {
   "cell_type": "code",
   "execution_count": null,
   "id": "ce8ac5f3",
   "metadata": {
    "papermill": {
     "duration": 0.019114,
     "end_time": "2024-02-07T02:43:43.512715",
     "exception": false,
     "start_time": "2024-02-07T02:43:43.493601",
     "status": "completed"
    },
    "tags": []
   },
   "outputs": [],
   "source": []
  }
 ],
 "metadata": {
  "kaggle": {
   "accelerator": "none",
   "dataSources": [
    {
     "datasetId": 790209,
     "sourceId": 1357156,
     "sourceType": "datasetVersion"
    }
   ],
   "dockerImageVersionId": 30646,
   "isGpuEnabled": false,
   "isInternetEnabled": true,
   "language": "python",
   "sourceType": "notebook"
  },
  "kernelspec": {
   "display_name": "Python 3",
   "language": "python",
   "name": "python3"
  },
  "language_info": {
   "codemirror_mode": {
    "name": "ipython",
    "version": 3
   },
   "file_extension": ".py",
   "mimetype": "text/x-python",
   "name": "python",
   "nbconvert_exporter": "python",
   "pygments_lexer": "ipython3",
   "version": "3.10.13"
  },
  "papermill": {
   "default_parameters": {},
   "duration": 44.046015,
   "end_time": "2024-02-07T02:43:45.259104",
   "environment_variables": {},
   "exception": null,
   "input_path": "__notebook__.ipynb",
   "output_path": "__notebook__.ipynb",
   "parameters": {},
   "start_time": "2024-02-07T02:43:01.213089",
   "version": "2.5.0"
  }
 },
 "nbformat": 4,
 "nbformat_minor": 5
}
