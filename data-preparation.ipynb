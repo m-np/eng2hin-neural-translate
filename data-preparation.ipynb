{
 "cells": [
  {
   "cell_type": "markdown",
   "id": "5ddd690c",
   "metadata": {
    "papermill": {
     "duration": 0.006752,
     "end_time": "2024-02-05T06:56:06.499103",
     "exception": false,
     "start_time": "2024-02-05T06:56:06.492351",
     "status": "completed"
    },
    "tags": []
   },
   "source": [
    "# Data Preparation for English to Hindi Translation\n",
    "\n",
    "This Notebook works on cleaning and processing data for English to Hindi translation model"
   ]
  },
  {
   "cell_type": "code",
   "execution_count": 1,
   "id": "a5092972",
   "metadata": {
    "execution": {
     "iopub.execute_input": "2024-02-05T06:56:06.514314Z",
     "iopub.status.busy": "2024-02-05T06:56:06.513720Z",
     "iopub.status.idle": "2024-02-05T06:56:09.637001Z",
     "shell.execute_reply": "2024-02-05T06:56:09.636111Z"
    },
    "papermill": {
     "duration": 3.133538,
     "end_time": "2024-02-05T06:56:09.639479",
     "exception": false,
     "start_time": "2024-02-05T06:56:06.505941",
     "status": "completed"
    },
    "tags": []
   },
   "outputs": [],
   "source": [
    "import numpy as np \n",
    "import pandas as pd \n",
    "\n",
    "import re\n",
    "import string\n",
    "from string import digits\n",
    "\n",
    "import nltk\n",
    "from nltk.corpus import stopwords\n",
    "from nltk import word_tokenize\n",
    "\n",
    "import matplotlib.pyplot as plt\n",
    "import os\n",
    "\n",
    "pd.set_option('display.max_rows', 500)\n",
    "pd.set_option('display.max_columns', 500)\n",
    "pd.set_option('display.width', 1000)"
   ]
  },
  {
   "cell_type": "markdown",
   "id": "06c6e8cf",
   "metadata": {
    "papermill": {
     "duration": 0.006126,
     "end_time": "2024-02-05T06:56:09.652056",
     "exception": false,
     "start_time": "2024-02-05T06:56:09.645930",
     "status": "completed"
    },
    "tags": []
   },
   "source": [
    "# Data Preprocessing "
   ]
  },
  {
   "cell_type": "code",
   "execution_count": 2,
   "id": "8c35c147",
   "metadata": {
    "execution": {
     "iopub.execute_input": "2024-02-05T06:56:09.666915Z",
     "iopub.status.busy": "2024-02-05T06:56:09.666093Z",
     "iopub.status.idle": "2024-02-05T06:56:11.613188Z",
     "shell.execute_reply": "2024-02-05T06:56:11.611600Z"
    },
    "papermill": {
     "duration": 1.957753,
     "end_time": "2024-02-05T06:56:11.616008",
     "exception": false,
     "start_time": "2024-02-05T06:56:09.658255",
     "status": "completed"
    },
    "tags": []
   },
   "outputs": [
    {
     "data": {
      "text/html": [
       "<div>\n",
       "<style scoped>\n",
       "    .dataframe tbody tr th:only-of-type {\n",
       "        vertical-align: middle;\n",
       "    }\n",
       "\n",
       "    .dataframe tbody tr th {\n",
       "        vertical-align: top;\n",
       "    }\n",
       "\n",
       "    .dataframe thead th {\n",
       "        text-align: right;\n",
       "    }\n",
       "</style>\n",
       "<table border=\"1\" class=\"dataframe\">\n",
       "  <thead>\n",
       "    <tr style=\"text-align: right;\">\n",
       "      <th></th>\n",
       "      <th>source</th>\n",
       "      <th>english_sentence</th>\n",
       "      <th>hindi_sentence</th>\n",
       "    </tr>\n",
       "  </thead>\n",
       "  <tbody>\n",
       "    <tr>\n",
       "      <th>0</th>\n",
       "      <td>ted</td>\n",
       "      <td>politicians do not have permission to do what ...</td>\n",
       "      <td>राजनीतिज्ञों के पास जो कार्य करना चाहिए, वह कर...</td>\n",
       "    </tr>\n",
       "    <tr>\n",
       "      <th>1</th>\n",
       "      <td>ted</td>\n",
       "      <td>I'd like to tell you about one such child,</td>\n",
       "      <td>मई आपको ऐसे ही एक बच्चे के बारे में बताना चाहू...</td>\n",
       "    </tr>\n",
       "    <tr>\n",
       "      <th>2</th>\n",
       "      <td>indic2012</td>\n",
       "      <td>This percentage is even greater than the perce...</td>\n",
       "      <td>यह प्रतिशत भारत में हिन्दुओं प्रतिशत से अधिक है।</td>\n",
       "    </tr>\n",
       "    <tr>\n",
       "      <th>3</th>\n",
       "      <td>ted</td>\n",
       "      <td>what we really mean is that they're bad at not...</td>\n",
       "      <td>हम ये नहीं कहना चाहते कि वो ध्यान नहीं दे पाते</td>\n",
       "    </tr>\n",
       "    <tr>\n",
       "      <th>4</th>\n",
       "      <td>indic2012</td>\n",
       "      <td>.The ending portion of these Vedas is called U...</td>\n",
       "      <td>इन्हीं वेदों का अंतिम भाग उपनिषद कहलाता है।</td>\n",
       "    </tr>\n",
       "  </tbody>\n",
       "</table>\n",
       "</div>"
      ],
      "text/plain": [
       "      source                                   english_sentence                                     hindi_sentence\n",
       "0        ted  politicians do not have permission to do what ...  राजनीतिज्ञों के पास जो कार्य करना चाहिए, वह कर...\n",
       "1        ted         I'd like to tell you about one such child,  मई आपको ऐसे ही एक बच्चे के बारे में बताना चाहू...\n",
       "2  indic2012  This percentage is even greater than the perce...   यह प्रतिशत भारत में हिन्दुओं प्रतिशत से अधिक है।\n",
       "3        ted  what we really mean is that they're bad at not...     हम ये नहीं कहना चाहते कि वो ध्यान नहीं दे पाते\n",
       "4  indic2012  .The ending portion of these Vedas is called U...        इन्हीं वेदों का अंतिम भाग उपनिषद कहलाता है।"
      ]
     },
     "execution_count": 2,
     "metadata": {},
     "output_type": "execute_result"
    }
   ],
   "source": [
    "df = pd.read_csv(\"/kaggle/input/hindi-english-truncated-corpus/Hindi_English_Truncated_Corpus.csv\")\n",
    "df.head()"
   ]
  },
  {
   "cell_type": "code",
   "execution_count": 3,
   "id": "7029861f",
   "metadata": {
    "execution": {
     "iopub.execute_input": "2024-02-05T06:56:11.632422Z",
     "iopub.status.busy": "2024-02-05T06:56:11.632024Z",
     "iopub.status.idle": "2024-02-05T06:56:11.655794Z",
     "shell.execute_reply": "2024-02-05T06:56:11.654635Z"
    },
    "papermill": {
     "duration": 0.034831,
     "end_time": "2024-02-05T06:56:11.658637",
     "exception": false,
     "start_time": "2024-02-05T06:56:11.623806",
     "status": "completed"
    },
    "tags": []
   },
   "outputs": [],
   "source": [
    "df[\"english_sentence\"] = df[\"english_sentence\"].astype(\"str\")\n",
    "df[\"hindi_sentence\"] = df[\"hindi_sentence\"].astype(\"str\")"
   ]
  },
  {
   "cell_type": "code",
   "execution_count": 4,
   "id": "17559bfa",
   "metadata": {
    "execution": {
     "iopub.execute_input": "2024-02-05T06:56:11.673624Z",
     "iopub.status.busy": "2024-02-05T06:56:11.673215Z",
     "iopub.status.idle": "2024-02-05T06:56:11.680831Z",
     "shell.execute_reply": "2024-02-05T06:56:11.679754Z"
    },
    "papermill": {
     "duration": 0.017877,
     "end_time": "2024-02-05T06:56:11.683124",
     "exception": false,
     "start_time": "2024-02-05T06:56:11.665247",
     "status": "completed"
    },
    "tags": []
   },
   "outputs": [
    {
     "data": {
      "text/plain": [
       "\"I'd like to tell you about one such child,\""
      ]
     },
     "execution_count": 4,
     "metadata": {},
     "output_type": "execute_result"
    }
   ],
   "source": [
    "df.loc[1, \"english_sentence\"]"
   ]
  },
  {
   "cell_type": "code",
   "execution_count": 5,
   "id": "85b5d01e",
   "metadata": {
    "execution": {
     "iopub.execute_input": "2024-02-05T06:56:11.699142Z",
     "iopub.status.busy": "2024-02-05T06:56:11.698346Z",
     "iopub.status.idle": "2024-02-05T06:56:11.707077Z",
     "shell.execute_reply": "2024-02-05T06:56:11.705861Z"
    },
    "papermill": {
     "duration": 0.019387,
     "end_time": "2024-02-05T06:56:11.709527",
     "exception": false,
     "start_time": "2024-02-05T06:56:11.690140",
     "status": "completed"
    },
    "tags": []
   },
   "outputs": [
    {
     "data": {
      "text/plain": [
       "source              object\n",
       "english_sentence    object\n",
       "hindi_sentence      object\n",
       "dtype: object"
      ]
     },
     "execution_count": 5,
     "metadata": {},
     "output_type": "execute_result"
    }
   ],
   "source": [
    "df.dtypes"
   ]
  },
  {
   "cell_type": "markdown",
   "id": "d3442484",
   "metadata": {
    "papermill": {
     "duration": 0.006512,
     "end_time": "2024-02-05T06:56:11.723251",
     "exception": false,
     "start_time": "2024-02-05T06:56:11.716739",
     "status": "completed"
    },
    "tags": []
   },
   "source": [
    "Choose data with max sentence less than 30 char"
   ]
  },
  {
   "cell_type": "code",
   "execution_count": 6,
   "id": "e6e35585",
   "metadata": {
    "execution": {
     "iopub.execute_input": "2024-02-05T06:56:11.739460Z",
     "iopub.status.busy": "2024-02-05T06:56:11.738322Z",
     "iopub.status.idle": "2024-02-05T06:56:11.743867Z",
     "shell.execute_reply": "2024-02-05T06:56:11.742707Z"
    },
    "papermill": {
     "duration": 0.016337,
     "end_time": "2024-02-05T06:56:11.746480",
     "exception": false,
     "start_time": "2024-02-05T06:56:11.730143",
     "status": "completed"
    },
    "tags": []
   },
   "outputs": [],
   "source": [
    "MAX_FILTER_LEN = 30"
   ]
  },
  {
   "cell_type": "code",
   "execution_count": 7,
   "id": "c7e8ce97",
   "metadata": {
    "execution": {
     "iopub.execute_input": "2024-02-05T06:56:11.762506Z",
     "iopub.status.busy": "2024-02-05T06:56:11.761755Z",
     "iopub.status.idle": "2024-02-05T06:56:12.414529Z",
     "shell.execute_reply": "2024-02-05T06:56:12.413114Z"
    },
    "papermill": {
     "duration": 0.663656,
     "end_time": "2024-02-05T06:56:12.417171",
     "exception": false,
     "start_time": "2024-02-05T06:56:11.753515",
     "status": "completed"
    },
    "tags": []
   },
   "outputs": [],
   "source": [
    "df[\"eng_len\"] = df[\"english_sentence\"].apply(lambda x: len(str(x).split(\" \")))\n",
    "df[\"hin_len\"] = df[\"hindi_sentence\"].apply(lambda x: len(str(x).split(\" \")))"
   ]
  },
  {
   "cell_type": "code",
   "execution_count": 8,
   "id": "5481ed79",
   "metadata": {
    "execution": {
     "iopub.execute_input": "2024-02-05T06:56:12.433445Z",
     "iopub.status.busy": "2024-02-05T06:56:12.432807Z",
     "iopub.status.idle": "2024-02-05T06:56:12.456496Z",
     "shell.execute_reply": "2024-02-05T06:56:12.455171Z"
    },
    "papermill": {
     "duration": 0.03469,
     "end_time": "2024-02-05T06:56:12.459010",
     "exception": false,
     "start_time": "2024-02-05T06:56:12.424320",
     "status": "completed"
    },
    "tags": []
   },
   "outputs": [
    {
     "data": {
      "text/html": [
       "<div>\n",
       "<style scoped>\n",
       "    .dataframe tbody tr th:only-of-type {\n",
       "        vertical-align: middle;\n",
       "    }\n",
       "\n",
       "    .dataframe tbody tr th {\n",
       "        vertical-align: top;\n",
       "    }\n",
       "\n",
       "    .dataframe thead th {\n",
       "        text-align: right;\n",
       "    }\n",
       "</style>\n",
       "<table border=\"1\" class=\"dataframe\">\n",
       "  <thead>\n",
       "    <tr style=\"text-align: right;\">\n",
       "      <th></th>\n",
       "      <th>source</th>\n",
       "      <th>english_sentence</th>\n",
       "      <th>hindi_sentence</th>\n",
       "      <th>eng_len</th>\n",
       "      <th>hin_len</th>\n",
       "    </tr>\n",
       "  </thead>\n",
       "  <tbody>\n",
       "    <tr>\n",
       "      <th>0</th>\n",
       "      <td>ted</td>\n",
       "      <td>politicians do not have permission to do what ...</td>\n",
       "      <td>राजनीतिज्ञों के पास जो कार्य करना चाहिए, वह कर...</td>\n",
       "      <td>12</td>\n",
       "      <td>14</td>\n",
       "    </tr>\n",
       "    <tr>\n",
       "      <th>1</th>\n",
       "      <td>ted</td>\n",
       "      <td>I'd like to tell you about one such child,</td>\n",
       "      <td>मई आपको ऐसे ही एक बच्चे के बारे में बताना चाहू...</td>\n",
       "      <td>9</td>\n",
       "      <td>11</td>\n",
       "    </tr>\n",
       "    <tr>\n",
       "      <th>2</th>\n",
       "      <td>indic2012</td>\n",
       "      <td>This percentage is even greater than the perce...</td>\n",
       "      <td>यह प्रतिशत भारत में हिन्दुओं प्रतिशत से अधिक है।</td>\n",
       "      <td>10</td>\n",
       "      <td>9</td>\n",
       "    </tr>\n",
       "    <tr>\n",
       "      <th>3</th>\n",
       "      <td>ted</td>\n",
       "      <td>what we really mean is that they're bad at not...</td>\n",
       "      <td>हम ये नहीं कहना चाहते कि वो ध्यान नहीं दे पाते</td>\n",
       "      <td>12</td>\n",
       "      <td>11</td>\n",
       "    </tr>\n",
       "    <tr>\n",
       "      <th>4</th>\n",
       "      <td>indic2012</td>\n",
       "      <td>.The ending portion of these Vedas is called U...</td>\n",
       "      <td>इन्हीं वेदों का अंतिम भाग उपनिषद कहलाता है।</td>\n",
       "      <td>9</td>\n",
       "      <td>8</td>\n",
       "    </tr>\n",
       "    <tr>\n",
       "      <th>...</th>\n",
       "      <td>...</td>\n",
       "      <td>...</td>\n",
       "      <td>...</td>\n",
       "      <td>...</td>\n",
       "      <td>...</td>\n",
       "    </tr>\n",
       "    <tr>\n",
       "      <th>127602</th>\n",
       "      <td>indic2012</td>\n",
       "      <td>Examples of art deco construction can be found...</td>\n",
       "      <td>आर्ट डेको शैली के निर्माण मैरीन ड्राइव और ओवल ...</td>\n",
       "      <td>15</td>\n",
       "      <td>15</td>\n",
       "    </tr>\n",
       "    <tr>\n",
       "      <th>127603</th>\n",
       "      <td>ted</td>\n",
       "      <td>and put it in our cheeks.</td>\n",
       "      <td>और अपने गालों में डाल लेते हैं।</td>\n",
       "      <td>6</td>\n",
       "      <td>7</td>\n",
       "    </tr>\n",
       "    <tr>\n",
       "      <th>127604</th>\n",
       "      <td>tides</td>\n",
       "      <td>As for the other derivatives of sulphur , the ...</td>\n",
       "      <td>जहां तक गंधक के अन्य उत्पादों का प्रश्न है , द...</td>\n",
       "      <td>36</td>\n",
       "      <td>34</td>\n",
       "    </tr>\n",
       "    <tr>\n",
       "      <th>127605</th>\n",
       "      <td>tides</td>\n",
       "      <td>its complicated functioning is defined thus in...</td>\n",
       "      <td>Zरचना-प्रकिया को उसने एक पहेली में यों बांधा है .</td>\n",
       "      <td>11</td>\n",
       "      <td>10</td>\n",
       "    </tr>\n",
       "    <tr>\n",
       "      <th>127606</th>\n",
       "      <td>ted</td>\n",
       "      <td>They've just won four government contracts to ...</td>\n",
       "      <td>हाल ही में उन्हें सरकारी ठेका मिला है करीब सौ ...</td>\n",
       "      <td>12</td>\n",
       "      <td>14</td>\n",
       "    </tr>\n",
       "  </tbody>\n",
       "</table>\n",
       "<p>127607 rows × 5 columns</p>\n",
       "</div>"
      ],
      "text/plain": [
       "           source                                   english_sentence                                     hindi_sentence  eng_len  hin_len\n",
       "0             ted  politicians do not have permission to do what ...  राजनीतिज्ञों के पास जो कार्य करना चाहिए, वह कर...       12       14\n",
       "1             ted         I'd like to tell you about one such child,  मई आपको ऐसे ही एक बच्चे के बारे में बताना चाहू...        9       11\n",
       "2       indic2012  This percentage is even greater than the perce...   यह प्रतिशत भारत में हिन्दुओं प्रतिशत से अधिक है।       10        9\n",
       "3             ted  what we really mean is that they're bad at not...     हम ये नहीं कहना चाहते कि वो ध्यान नहीं दे पाते       12       11\n",
       "4       indic2012  .The ending portion of these Vedas is called U...        इन्हीं वेदों का अंतिम भाग उपनिषद कहलाता है।        9        8\n",
       "...           ...                                                ...                                                ...      ...      ...\n",
       "127602  indic2012  Examples of art deco construction can be found...  आर्ट डेको शैली के निर्माण मैरीन ड्राइव और ओवल ...       15       15\n",
       "127603        ted                          and put it in our cheeks.                    और अपने गालों में डाल लेते हैं।        6        7\n",
       "127604      tides  As for the other derivatives of sulphur , the ...  जहां तक गंधक के अन्य उत्पादों का प्रश्न है , द...       36       34\n",
       "127605      tides  its complicated functioning is defined thus in...  Zरचना-प्रकिया को उसने एक पहेली में यों बांधा है .       11       10\n",
       "127606        ted  They've just won four government contracts to ...  हाल ही में उन्हें सरकारी ठेका मिला है करीब सौ ...       12       14\n",
       "\n",
       "[127607 rows x 5 columns]"
      ]
     },
     "execution_count": 8,
     "metadata": {},
     "output_type": "execute_result"
    }
   ],
   "source": [
    "df"
   ]
  },
  {
   "cell_type": "code",
   "execution_count": 9,
   "id": "10ff415b",
   "metadata": {
    "execution": {
     "iopub.execute_input": "2024-02-05T06:56:12.476147Z",
     "iopub.status.busy": "2024-02-05T06:56:12.475776Z",
     "iopub.status.idle": "2024-02-05T06:56:12.496023Z",
     "shell.execute_reply": "2024-02-05T06:56:12.494755Z"
    },
    "papermill": {
     "duration": 0.032219,
     "end_time": "2024-02-05T06:56:12.499133",
     "exception": false,
     "start_time": "2024-02-05T06:56:12.466914",
     "status": "completed"
    },
    "tags": []
   },
   "outputs": [
    {
     "name": "stdout",
     "output_type": "stream",
     "text": [
      "Size of dataset to use: (106939, 5)\n"
     ]
    }
   ],
   "source": [
    "df = df[(df['eng_len'] <= MAX_FILTER_LEN) & (df['hin_len'] <= MAX_FILTER_LEN)]\n",
    "print(f\"Size of dataset to use: {df.shape}\")"
   ]
  },
  {
   "cell_type": "code",
   "execution_count": 10,
   "id": "87f1d0a5",
   "metadata": {
    "execution": {
     "iopub.execute_input": "2024-02-05T06:56:12.516694Z",
     "iopub.status.busy": "2024-02-05T06:56:12.515542Z",
     "iopub.status.idle": "2024-02-05T06:56:14.947369Z",
     "shell.execute_reply": "2024-02-05T06:56:14.945929Z"
    },
    "papermill": {
     "duration": 2.443332,
     "end_time": "2024-02-05T06:56:14.950085",
     "exception": false,
     "start_time": "2024-02-05T06:56:12.506753",
     "status": "completed"
    },
    "tags": []
   },
   "outputs": [
    {
     "name": "stderr",
     "output_type": "stream",
     "text": [
      "/tmp/ipykernel_18/422261299.py:2: SettingWithCopyWarning: \n",
      "A value is trying to be set on a copy of a slice from a DataFrame.\n",
      "Try using .loc[row_indexer,col_indexer] = value instead\n",
      "\n",
      "See the caveats in the documentation: https://pandas.pydata.org/pandas-docs/stable/user_guide/indexing.html#returning-a-view-versus-a-copy\n",
      "  df['english_sentence']=df['english_sentence'].apply(lambda x: ''.join(ch for ch in x if ch not in filters))\n",
      "/tmp/ipykernel_18/422261299.py:3: SettingWithCopyWarning: \n",
      "A value is trying to be set on a copy of a slice from a DataFrame.\n",
      "Try using .loc[row_indexer,col_indexer] = value instead\n",
      "\n",
      "See the caveats in the documentation: https://pandas.pydata.org/pandas-docs/stable/user_guide/indexing.html#returning-a-view-versus-a-copy\n",
      "  df['hindi_sentence']=df['hindi_sentence'].apply(lambda x: ''.join(ch for ch in x if ch not in filters))\n"
     ]
    }
   ],
   "source": [
    "filters = '!\"#$%&()*+,-./:;=?@[\\\\]^_`{|}~\\t\\n'\n",
    "df['english_sentence']=df['english_sentence'].apply(lambda x: ''.join(ch for ch in x if ch not in filters))\n",
    "df['hindi_sentence']=df['hindi_sentence'].apply(lambda x: ''.join(ch for ch in x if ch not in filters))"
   ]
  },
  {
   "cell_type": "code",
   "execution_count": 11,
   "id": "80ec02e3",
   "metadata": {
    "execution": {
     "iopub.execute_input": "2024-02-05T06:56:14.967245Z",
     "iopub.status.busy": "2024-02-05T06:56:14.966865Z",
     "iopub.status.idle": "2024-02-05T06:56:15.132363Z",
     "shell.execute_reply": "2024-02-05T06:56:15.131187Z"
    },
    "papermill": {
     "duration": 0.177332,
     "end_time": "2024-02-05T06:56:15.135100",
     "exception": false,
     "start_time": "2024-02-05T06:56:14.957768",
     "status": "completed"
    },
    "tags": []
   },
   "outputs": [
    {
     "name": "stderr",
     "output_type": "stream",
     "text": [
      "/tmp/ipykernel_18/73230810.py:1: SettingWithCopyWarning: \n",
      "A value is trying to be set on a copy of a slice from a DataFrame.\n",
      "Try using .loc[row_indexer,col_indexer] = value instead\n",
      "\n",
      "See the caveats in the documentation: https://pandas.pydata.org/pandas-docs/stable/user_guide/indexing.html#returning-a-view-versus-a-copy\n",
      "  df['english_sentence'] = df['english_sentence'].apply(lambda x: \"[start] \" + x + \" [end]\")\n",
      "/tmp/ipykernel_18/73230810.py:2: SettingWithCopyWarning: \n",
      "A value is trying to be set on a copy of a slice from a DataFrame.\n",
      "Try using .loc[row_indexer,col_indexer] = value instead\n",
      "\n",
      "See the caveats in the documentation: https://pandas.pydata.org/pandas-docs/stable/user_guide/indexing.html#returning-a-view-versus-a-copy\n",
      "  df['hindi_sentence'] = df['hindi_sentence'].apply(lambda x: \"[start] \" + x + \" [end]\")\n"
     ]
    },
    {
     "data": {
      "text/html": [
       "<div>\n",
       "<style scoped>\n",
       "    .dataframe tbody tr th:only-of-type {\n",
       "        vertical-align: middle;\n",
       "    }\n",
       "\n",
       "    .dataframe tbody tr th {\n",
       "        vertical-align: top;\n",
       "    }\n",
       "\n",
       "    .dataframe thead th {\n",
       "        text-align: right;\n",
       "    }\n",
       "</style>\n",
       "<table border=\"1\" class=\"dataframe\">\n",
       "  <thead>\n",
       "    <tr style=\"text-align: right;\">\n",
       "      <th></th>\n",
       "      <th>source</th>\n",
       "      <th>english_sentence</th>\n",
       "      <th>hindi_sentence</th>\n",
       "      <th>eng_len</th>\n",
       "      <th>hin_len</th>\n",
       "    </tr>\n",
       "  </thead>\n",
       "  <tbody>\n",
       "    <tr>\n",
       "      <th>0</th>\n",
       "      <td>ted</td>\n",
       "      <td>[start] politicians do not have permission to ...</td>\n",
       "      <td>[start] राजनीतिज्ञों के पास जो कार्य करना चाहि...</td>\n",
       "      <td>12</td>\n",
       "      <td>14</td>\n",
       "    </tr>\n",
       "    <tr>\n",
       "      <th>1</th>\n",
       "      <td>ted</td>\n",
       "      <td>[start] I'd like to tell you about one such ch...</td>\n",
       "      <td>[start] मई आपको ऐसे ही एक बच्चे के बारे में बत...</td>\n",
       "      <td>9</td>\n",
       "      <td>11</td>\n",
       "    </tr>\n",
       "    <tr>\n",
       "      <th>2</th>\n",
       "      <td>indic2012</td>\n",
       "      <td>[start] This percentage is even greater than t...</td>\n",
       "      <td>[start] यह प्रतिशत भारत में हिन्दुओं प्रतिशत स...</td>\n",
       "      <td>10</td>\n",
       "      <td>9</td>\n",
       "    </tr>\n",
       "    <tr>\n",
       "      <th>3</th>\n",
       "      <td>ted</td>\n",
       "      <td>[start] what we really mean is that they're ba...</td>\n",
       "      <td>[start] हम ये नहीं कहना चाहते कि वो ध्यान नहीं...</td>\n",
       "      <td>12</td>\n",
       "      <td>11</td>\n",
       "    </tr>\n",
       "    <tr>\n",
       "      <th>4</th>\n",
       "      <td>indic2012</td>\n",
       "      <td>[start] The ending portion of these Vedas is c...</td>\n",
       "      <td>[start] इन्हीं वेदों का अंतिम भाग उपनिषद कहलात...</td>\n",
       "      <td>9</td>\n",
       "      <td>8</td>\n",
       "    </tr>\n",
       "  </tbody>\n",
       "</table>\n",
       "</div>"
      ],
      "text/plain": [
       "      source                                   english_sentence                                     hindi_sentence  eng_len  hin_len\n",
       "0        ted  [start] politicians do not have permission to ...  [start] राजनीतिज्ञों के पास जो कार्य करना चाहि...       12       14\n",
       "1        ted  [start] I'd like to tell you about one such ch...  [start] मई आपको ऐसे ही एक बच्चे के बारे में बत...        9       11\n",
       "2  indic2012  [start] This percentage is even greater than t...  [start] यह प्रतिशत भारत में हिन्दुओं प्रतिशत स...       10        9\n",
       "3        ted  [start] what we really mean is that they're ba...  [start] हम ये नहीं कहना चाहते कि वो ध्यान नहीं...       12       11\n",
       "4  indic2012  [start] The ending portion of these Vedas is c...  [start] इन्हीं वेदों का अंतिम भाग उपनिषद कहलात...        9        8"
      ]
     },
     "execution_count": 11,
     "metadata": {},
     "output_type": "execute_result"
    }
   ],
   "source": [
    "df['english_sentence'] = df['english_sentence'].apply(lambda x: \"[start] \" + x + \" [end]\")\n",
    "df['hindi_sentence'] = df['hindi_sentence'].apply(lambda x: \"[start] \" + x + \" [end]\")\n",
    "df.head()"
   ]
  },
  {
   "cell_type": "code",
   "execution_count": 12,
   "id": "d0698e59",
   "metadata": {
    "execution": {
     "iopub.execute_input": "2024-02-05T06:56:15.153627Z",
     "iopub.status.busy": "2024-02-05T06:56:15.153208Z",
     "iopub.status.idle": "2024-02-05T06:56:30.270632Z",
     "shell.execute_reply": "2024-02-05T06:56:30.269210Z"
    },
    "papermill": {
     "duration": 15.13027,
     "end_time": "2024-02-05T06:56:30.274165",
     "exception": false,
     "start_time": "2024-02-05T06:56:15.143895",
     "status": "completed"
    },
    "tags": []
   },
   "outputs": [
    {
     "name": "stdout",
     "output_type": "stream",
     "text": [
      "106939\n"
     ]
    }
   ],
   "source": [
    "def normalize(eng, hin):\n",
    "    \"\"\"Normalize a line of text and split into two at the tab character\"\"\"\n",
    "    line = str(eng.strip().lower()) + \"\\t\" + str(hin.strip())\n",
    "    line = re.sub(r\"^([^ \\w])(?!\\s)\", r\"\\1 \", line)\n",
    "    line = re.sub(r\"(\\s[^ \\w])(?!\\s)\", r\"\\1 \", line)\n",
    "    line = re.sub(r\"(?!\\s)([^ \\w])$\", r\" \\1\", line)\n",
    "    line = re.sub(r\"(?!\\s)([^ \\w]\\s)\", r\" \\1\", line)\n",
    "    eng, hind = line.split('\\t')\n",
    "    return eng, hin\n",
    "\n",
    "text_pairs = []\n",
    "for index in df.index:\n",
    "    text_pairs.append(normalize(df['english_sentence'][index], df['hindi_sentence'][index]))\n",
    "print(len(text_pairs))"
   ]
  },
  {
   "cell_type": "code",
   "execution_count": 13,
   "id": "41da8540",
   "metadata": {
    "execution": {
     "iopub.execute_input": "2024-02-05T06:56:30.296727Z",
     "iopub.status.busy": "2024-02-05T06:56:30.295469Z",
     "iopub.status.idle": "2024-02-05T06:56:30.303937Z",
     "shell.execute_reply": "2024-02-05T06:56:30.302716Z"
    },
    "papermill": {
     "duration": 0.020473,
     "end_time": "2024-02-05T06:56:30.306478",
     "exception": false,
     "start_time": "2024-02-05T06:56:30.286005",
     "status": "completed"
    },
    "tags": []
   },
   "outputs": [
    {
     "data": {
      "text/plain": [
       "(\"[start] what we really mean is that they're bad at not paying attention [end]\",\n",
       " '[start] हम ये नहीं कहना चाहते कि वो ध्यान नहीं दे पाते [end]')"
      ]
     },
     "execution_count": 13,
     "metadata": {},
     "output_type": "execute_result"
    }
   ],
   "source": [
    "df.loc[3, \"english_sentence\"], df.loc[3, \"hindi_sentence\"]"
   ]
  },
  {
   "cell_type": "code",
   "execution_count": null,
   "id": "566454cf",
   "metadata": {
    "papermill": {
     "duration": 0.008498,
     "end_time": "2024-02-05T06:56:30.323313",
     "exception": false,
     "start_time": "2024-02-05T06:56:30.314815",
     "status": "completed"
    },
    "tags": []
   },
   "outputs": [],
   "source": []
  },
  {
   "cell_type": "code",
   "execution_count": null,
   "id": "0e7b1837",
   "metadata": {
    "papermill": {
     "duration": 0.007907,
     "end_time": "2024-02-05T06:56:30.339501",
     "exception": false,
     "start_time": "2024-02-05T06:56:30.331594",
     "status": "completed"
    },
    "tags": []
   },
   "outputs": [],
   "source": []
  },
  {
   "cell_type": "code",
   "execution_count": null,
   "id": "6f0f6546",
   "metadata": {
    "papermill": {
     "duration": 0.007829,
     "end_time": "2024-02-05T06:56:30.355876",
     "exception": false,
     "start_time": "2024-02-05T06:56:30.348047",
     "status": "completed"
    },
    "tags": []
   },
   "outputs": [],
   "source": []
  }
 ],
 "metadata": {
  "kaggle": {
   "accelerator": "none",
   "dataSources": [
    {
     "datasetId": 790209,
     "sourceId": 1357156,
     "sourceType": "datasetVersion"
    }
   ],
   "dockerImageVersionId": 30646,
   "isGpuEnabled": false,
   "isInternetEnabled": true,
   "language": "python",
   "sourceType": "notebook"
  },
  "kernelspec": {
   "display_name": "Python 3",
   "language": "python",
   "name": "python3"
  },
  "language_info": {
   "codemirror_mode": {
    "name": "ipython",
    "version": 3
   },
   "file_extension": ".py",
   "mimetype": "text/x-python",
   "name": "python",
   "nbconvert_exporter": "python",
   "pygments_lexer": "ipython3",
   "version": "3.10.13"
  },
  "papermill": {
   "default_parameters": {},
   "duration": 27.612457,
   "end_time": "2024-02-05T06:56:31.084517",
   "environment_variables": {},
   "exception": null,
   "input_path": "__notebook__.ipynb",
   "output_path": "__notebook__.ipynb",
   "parameters": {},
   "start_time": "2024-02-05T06:56:03.472060",
   "version": "2.5.0"
  }
 },
 "nbformat": 4,
 "nbformat_minor": 5
}
